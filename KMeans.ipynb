{
  "nbformat": 4,
  "nbformat_minor": 0,
  "metadata": {
    "colab": {
      "name": "KMeans",
      "provenance": [],
      "authorship_tag": "ABX9TyN3EbTk2sMhoGuc3JAECSgf",
      "include_colab_link": true
    },
    "kernelspec": {
      "name": "python3",
      "display_name": "Python 3"
    }
  },
  "cells": [
    {
      "cell_type": "markdown",
      "metadata": {
        "id": "view-in-github",
        "colab_type": "text"
      },
      "source": [
        "<a href=\"https://colab.research.google.com/github/wanderloop/WanderlustAI/blob/master/KMeans.ipynb\" target=\"_parent\"><img src=\"https://colab.research.google.com/assets/colab-badge.svg\" alt=\"Open In Colab\"/></a>"
      ]
    },
    {
      "cell_type": "code",
      "metadata": {
        "id": "iTYHm7IG5kbc",
        "colab_type": "code",
        "colab": {}
      },
      "source": [
        "import matplotlib.pyplot as plt\n",
        "plt.style.use('ggplot')\n",
        "import seaborn as sns\n",
        "import numpy as np\n",
        "from sklearn.cluster import KMeans\n",
        "import pandas as pd"
      ],
      "execution_count": 0,
      "outputs": []
    },
    {
      "cell_type": "code",
      "metadata": {
        "id": "dXSWZ7P76MDJ",
        "colab_type": "code",
        "outputId": "ae15fcdd-6e6f-476f-d29c-aaada00aa0ee",
        "colab": {
          "base_uri": "https://localhost:8080/",
          "height": 282
        }
      },
      "source": [
        "# Create data\n",
        "x=[11.10,\n",
        "   11.15,\n",
        "   5,\n",
        "   8,\n",
        "   1,\n",
        "   9,]\n",
        "y=[2,\n",
        "   8,\n",
        "   1.8,\n",
        "   8,\n",
        "   0.6,\n",
        "   11,]\n",
        "24.920991, 67.143784\n",
        "24.920989, 67.143693\n",
        "24.920977, 67.143591 \n",
        "\n",
        "plt.scatter(x,\n",
        "            y,)\n",
        "\n",
        "24.920802, 67.143378 \n",
        "24.920817, 67.143397\n",
        "24.920778, 67.143427"
      ],
      "execution_count": 0,
      "outputs": [
        {
          "output_type": "execute_result",
          "data": {
            "text/plain": [
              "(24.920778, 67.143427)"
            ]
          },
          "metadata": {
            "tags": []
          },
          "execution_count": 19
        },
        {
          "output_type": "display_data",
          "data": {
            "image/png": "[encoded data removed]",
            "text/plain": [
              "<Figure size 432x288 with 1 Axes>"
            ]
          },
          "metadata": {
            "tags": []
          }
        }
      ]
    },
    {
      "cell_type": "code",
      "metadata": {
        "id": "DYI-AEb8Nt5k",
        "colab_type": "code",
        "outputId": "0a4e1090-120d-4a45-81fa-9b72ff9e5d95",
        "colab": {
          "base_uri": "https://localhost:8080/",
          "height": 299
        }
      },
      "source": [
        "wcss = []\n",
        "for i in range(1, 7):\n",
        "    kmeans = KMeans(n_clusters=i,\n",
        "                    init='k-means++', \n",
        "                    max_iter=600, \n",
        "                    n_init=10, \n",
        "                    random_state=0)\n",
        "    kmeans.fit(X)\n",
        "    wcss.append(kmeans.inertia_)\n",
        "plt.plot(range(1, 7), wcss)\n",
        "plt.title('Elbow Method')\n",
        "plt.xlabel('Number of clusters')\n",
        "plt.ylabel('WCSS')\n",
        "plt.show()"
      ],
      "execution_count": 0,
      "outputs": [
        {
          "output_type": "display_data",
          "data": {
            "image/png": "[encoded data removed]",
            "text/plain": [
              "<Figure size 432x288 with 1 Axes>"
            ]
          },
          "metadata": {
            "tags": []
          }
        }
      ]
    },
    {
      "cell_type": "code",
      "metadata": {
        "id": "AYg3Hjsi6p_p",
        "colab_type": "code",
        "outputId": "849c26de-6991-4603-887d-60d4f62f820c",
        "colab": {
          "base_uri": "https://localhost:8080/",
          "height": 67
        }
      },
      "source": [
        "X=np.array([[1038,660],\n",
        "            [1045,680],\n",
        "            [1038,750],\n",
        "            [897,750],\n",
        "            [807,780],\n",
        "            [805,850],])\n",
        "\n",
        "# Fitting K-Means to the dataset\n",
        "kmeans=KMeans(n_clusters = 2,\n",
        "              max_iter=600,\n",
        "              algorithm = 'auto')\n",
        "kmeans.fit(X)"
      ],
      "execution_count": 0,
      "outputs": [
        {
          "output_type": "execute_result",
          "data": {
            "text/plain": [
              "KMeans(algorithm='auto', copy_x=True, init='k-means++', max_iter=600,\n",
              "       n_clusters=2, n_init=10, n_jobs=None, precompute_distances='auto',\n",
              "       random_state=None, tol=0.0001, verbose=0)"
            ]
          },
          "metadata": {
            "tags": []
          },
          "execution_count": 21
        }
      ]
    },
    {
      "cell_type": "code",
      "metadata": {
        "id": "8BPNFdNA6xNk",
        "colab_type": "code",
        "outputId": "b526be61-85a7-45ac-962b-7c56a03a5020",
        "colab": {
          "base_uri": "https://localhost:8080/",
          "height": 67
        }
      },
      "source": [
        "# Finding the center\n",
        "centroids=kmeans.cluster_centers_\n",
        "\n",
        "# See the division of data in clusters 0 and 1\n",
        "labels=kmeans.labels_\n",
        "print(centroids)\n",
        "print(labels)\n",
        "colors=(\"g.\",\n",
        "        \"r.\",)"
      ],
      "execution_count": 0,
      "outputs": [
        {
          "output_type": "stream",
          "text": [
            "[[1040.33333333  696.66666667]\n",
            " [ 836.33333333  793.33333333]]\n",
            "[0 0 0 1 1 1]\n"
          ],
          "name": "stdout"
        }
      ]
    },
    {
      "cell_type": "code",
      "metadata": {
        "id": "BOF9yAJC68mR",
        "colab_type": "code",
        "outputId": "75f2786c-be6e-414b-d891-d3a60b7e7d25",
        "colab": {
          "base_uri": "https://localhost:8080/",
          "height": 366
        }
      },
      "source": [
        "for i in range(len(X)):\n",
        "  print(\"coordinates:\",\n",
        "        X[i],\n",
        "        \"label:\",\n",
        "        labels[i],)\n",
        "  \n",
        "  plt.plot(X[i][0],\n",
        "           X[i][1],\n",
        "           colors[labels[i]],\n",
        "           markersize=10,)"
      ],
      "execution_count": 0,
      "outputs": [
        {
          "output_type": "stream",
          "text": [
            "coordinates: [1038  660] label: 0\n",
            "coordinates: [1045  680] label: 0\n",
            "coordinates: [1038  750] label: 0\n",
            "coordinates: [897 750] label: 1\n",
            "coordinates: [807 780] label: 1\n",
            "coordinates: [805 850] label: 1\n"
          ],
          "name": "stdout"
        },
        {
          "output_type": "display_data",
          "data": {
            "image/png": "[encoded data removed]",
            "text/plain": [
              "<Figure size 432x288 with 1 Axes>"
            ]
          },
          "metadata": {
            "tags": []
          }
        }
      ]
    },
    {
      "cell_type": "code",
      "metadata": {
        "id": "76Ik6wnC7D0k",
        "colab_type": "code",
        "outputId": "3bece286-4a6f-418a-9369-8a5747744523",
        "colab": {
          "base_uri": "https://localhost:8080/",
          "height": 282
        }
      },
      "source": [
        "plt.scatter(centroids[:,0],\n",
        "            centroids[:,1],\n",
        "            marker=\"X\",\n",
        "            s=150,\n",
        "            linewidths=5,\n",
        "            zorder=10,)"
      ],
      "execution_count": 0,
      "outputs": [
        {
          "output_type": "execute_result",
          "data": {
            "text/plain": [
              "<matplotlib.collections.PathCollection at 0x7fe9a547c400>"
            ]
          },
          "metadata": {
            "tags": []
          },
          "execution_count": 24
        },
        {
          "output_type": "display_data",
          "data": {
            "image/png": "[encoded data removed]",
            "text/plain": [
              "<Figure size 432x288 with 1 Axes>"
            ]
          },
          "metadata": {
            "tags": []
          }
        }
      ]
    }
  ]
}