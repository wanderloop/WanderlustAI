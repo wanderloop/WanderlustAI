{
  "nbformat": 4,
  "nbformat_minor": 0,
  "metadata": {
    "colab": {
      "name": "Kmeans",
      "provenance": [],
      "collapsed_sections": []
    },
    "kernelspec": {
      "name": "python3",
      "display_name": "Python 3"
    }
  },
  "cells": [
    {
      "cell_type": "code",
      "metadata": {
        "id": "1AxCh2qdsZwK",
        "colab_type": "code",
        "colab": {}
      },
      "source": [
        "import matplotlib.pyplot as plt\n",
        "from matplotlib import style\n",
        "style.use('ggplot')\n",
        "import numpy as np\n",
        "from sklearn.cluster import KMeans\n",
        "from sklearn import preprocessing\n",
        "import pandas as pd\n"
      ],
      "execution_count": 0,
      "outputs": []
    },
    {
      "cell_type": "code",
      "metadata": {
        "id": "X65jHYpHswKJ",
        "colab_type": "code",
        "outputId": "ea47fd4f-f0ba-4668-d6dc-87380ea461fb",
        "colab": {
          "base_uri": "https://localhost:8080/",
          "height": 265
        }
      },
      "source": [
        "#x=[11:10,11:15,5,8,1,9]\n",
        "#y=[2,8,1.8,8,0.6,11]\n",
        "#24.920991, 67.143784\n",
        "#24.920989, 67.143693\n",
        "#24.920977, 67.143591 \n",
        "\n",
        "\n",
        "#plt.scatter(x,y)\n",
        "#plt.show()\n",
        " #24.920802, 67.143378 \n",
        " #24.920817, 67.143397\n",
        " #24.920778, 67.143427"
      ],
      "execution_count": 0,
      "outputs": [
        {
          "output_type": "display_data",
          "data": {
            "image/png": "[encoded data removed]",
            "text/plain": [
              "<Figure size 432x288 with 1 Axes>"
            ]
          },
          "metadata": {
            "tags": [],
            "needs_background": "light"
          }
        }
      ]
    },
    {
      "cell_type": "code",
      "metadata": {
        "id": "XPK3VhnH5PPa",
        "colab_type": "code",
        "outputId": "28a6faad-e594-473a-806a-a9c7e460a129",
        "colab": {
          "base_uri": "https://localhost:8080/",
          "height": 69
        }
      },
      "source": [
        "#X=np.array([[1,2],[5,8],[1.5,1.8],[8,8],[1,0.6],[9,11]])\n",
        "#24.920991, 67.143784\n",
        "#24.920989, 67.143693\n",
        "#24.920977, 67.143591 \n",
        "#24.920802, 67.143378 \n",
        " #24.920817, 67.143397\n",
        " #24.920778, 67.143427\n",
        "X=np.array([[1038,660],[1045,680],[1038,750],[897,750],[807,780],[805,850]])\n",
        "\n",
        "\n",
        "kmeans=KMeans(n_clusters=2)\n",
        "kmeans.fit(X)\n",
        "\n"
      ],
      "execution_count": 0,
      "outputs": [
        {
          "output_type": "execute_result",
          "data": {
            "text/plain": [
              "KMeans(algorithm='auto', copy_x=True, init='k-means++', max_iter=300,\n",
              "       n_clusters=2, n_init=10, n_jobs=None, precompute_distances='auto',\n",
              "       random_state=None, tol=0.0001, verbose=0)"
            ]
          },
          "metadata": {
            "tags": []
          },
          "execution_count": 33
        }
      ]
    },
    {
      "cell_type": "code",
      "metadata": {
        "id": "Bx_VIeLE64zf",
        "colab_type": "code",
        "outputId": "512cc9eb-f91c-4296-ca84-b951049c8910",
        "colab": {
          "base_uri": "https://localhost:8080/",
          "height": 69
        }
      },
      "source": [
        "centroids=kmeans.cluster_centers_\n",
        "labels=kmeans.labels_\n",
        "print(centroids)\n",
        "print(labels)\n",
        "colors=(\"g.\",\"r.\")"
      ],
      "execution_count": 0,
      "outputs": [
        {
          "output_type": "stream",
          "text": [
            "[[ 836.33333333  793.33333333]\n",
            " [1040.33333333  696.66666667]]\n",
            "[1 1 1 0 0 0]\n"
          ],
          "name": "stdout"
        }
      ]
    },
    {
      "cell_type": "code",
      "metadata": {
        "id": "o5splGE17mjE",
        "colab_type": "code",
        "outputId": "ce16d10a-f72a-4d71-85ef-d47d2dfdea5e",
        "colab": {
          "base_uri": "https://localhost:8080/",
          "height": 369
        }
      },
      "source": [
        "for i in range(len(X)):\n",
        "  print(\"coordinates:\",X[i],\"label:\",labels[i])\n",
        "  plt.plot(X[i][0],X[i][1],colors[labels[i]],markersize=10)\n"
      ],
      "execution_count": 0,
      "outputs": [
        {
          "output_type": "stream",
          "text": [
            "coordinates: [1038  660] label: 1\n",
            "coordinates: [1045  680] label: 1\n",
            "coordinates: [1038  750] label: 1\n",
            "coordinates: [897 750] label: 0\n",
            "coordinates: [807 780] label: 0\n",
            "coordinates: [805 850] label: 0\n"
          ],
          "name": "stdout"
        },
        {
          "output_type": "display_data",
          "data": {
            "image/png": "[encoded data removed]",
            "text/plain": [
              "<Figure size 432x288 with 1 Axes>"
            ]
          },
          "metadata": {
            "tags": []
          }
        }
      ]
    },
    {
      "cell_type": "code",
      "metadata": {
        "id": "OivQqvQA8TI6",
        "colab_type": "code",
        "outputId": "8bef8907-57d8-4946-dd98-95e5a8c7e198",
        "colab": {
          "base_uri": "https://localhost:8080/",
          "height": 282
        }
      },
      "source": [
        "plt.scatter(centroids[:,0],centroids[:,1],marker=\"X\",s=150,linewidths=5,zorder=10)"
      ],
      "execution_count": 0,
      "outputs": [
        {
          "output_type": "execute_result",
          "data": {
            "text/plain": [
              "<matplotlib.collections.PathCollection at 0x7fb503697f28>"
            ]
          },
          "metadata": {
            "tags": []
          },
          "execution_count": 36
        },
        {
          "output_type": "display_data",
          "data": {
            "image/png": "[encoded data removed]",
            "text/plain": [
              "<Figure size 432x288 with 1 Axes>"
            ]
          },
          "metadata": {
            "tags": []
          }
        }
      ]
    }
  ]
}