{
  "nbformat": 4,
  "nbformat_minor": 0,
  "metadata": {
    "colab": {
      "name": "coo_to_midpoint",
      "provenance": [],
      "collapsed_sections": [],
      "authorship_tag": "ABX9TyPXsmtDDl3nzRf320N6hkoz",
      "include_colab_link": true
    },
    "kernelspec": {
      "name": "python3",
      "display_name": "Python 3"
    }
  },
  "cells": [
    {
      "cell_type": "markdown",
      "metadata": {
        "id": "view-in-github",
        "colab_type": "text"
      },
      "source": [
        "<a href=\"https://colab.research.google.com/github/wanderloop/WanderlustAI/blob/master/coo_to_midpoint.ipynb\" target=\"_parent\"><img src=\"https://colab.research.google.com/assets/colab-badge.svg\" alt=\"Open In Colab\"/></a>"
      ]
    },
    {
      "cell_type": "code",
      "metadata": {
        "id": "9oc7DeA7Y6BY",
        "colab_type": "code",
        "outputId": "fd762c1d-a9f1-45a2-ef8e-30d3d74e6b6f",
        "colab": {
          "resources": {
            "http://localhost:8080/nbextensions/google.colab/files.js": {
              "data": "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",
              "ok": true,
              "headers": [
                [
                  "content-type",
                  "application/javascript"
                ]
              ],
              "status": 200,
              "status_text": ""
            }
          },
          "base_uri": "https://localhost:8080/",
          "height": 380
        }
      },
      "source": [
        "import numpy as np\n",
        "import pandas as pd\n",
        "import matplotlib.pyplot as plt\n",
        "!pip install sweetviz\n",
        "import sweetviz as sv\n",
        "from sklearn import linear_model\n",
        "regr = linear_model.LinearRegression()\n",
        "from sklearn import datasets, linear_model\n",
        "from sklearn.metrics import mean_squared_error, r2_score\n",
        "from sklearn.ensemble import IsolationForest\n",
        "from sklearn.preprocessing import StandardScaler\n",
        "from sklearn.decomposition import PCA\n",
        "import io\n",
        "from google.colab import files\n",
        "uploaded = files.upload()"
      ],
      "execution_count": 0,
      "outputs": [
        {
          "output_type": "stream",
          "text": [
            "Requirement already satisfied: sweetviz in /usr/local/lib/python3.6/dist-packages (1.0a4)\n",
            "Requirement already satisfied: scipy>=1.3.2 in /usr/local/lib/python3.6/dist-packages (from sweetviz) (1.4.1)\n",
            "Requirement already satisfied: importlib-resources>=1.2.0 in /usr/local/lib/python3.6/dist-packages (from sweetviz) (2.0.0)\n",
            "Requirement already satisfied: jinja2>=2.11.1 in /usr/local/lib/python3.6/dist-packages (from sweetviz) (2.11.2)\n",
            "Requirement already satisfied: tqdm>=4.43.0 in /usr/local/lib/python3.6/dist-packages (from sweetviz) (4.46.1)\n",
            "Requirement already satisfied: numpy>=1.16.0 in /usr/local/lib/python3.6/dist-packages (from sweetviz) (1.18.4)\n",
            "Requirement already satisfied: matplotlib>=3.1.3 in /usr/local/lib/python3.6/dist-packages (from sweetviz) (3.2.1)\n",
            "Requirement already satisfied: pandas!=1.0.0,!=1.0.1,!=1.0.2,>=0.25.3 in /usr/local/lib/python3.6/dist-packages (from sweetviz) (1.0.4)\n",
            "Requirement already satisfied: zipp>=0.4; python_version < \"3.8\" in /usr/local/lib/python3.6/dist-packages (from importlib-resources>=1.2.0->sweetviz) (3.1.0)\n",
            "Requirement already satisfied: importlib-metadata; python_version < \"3.8\" in /usr/local/lib/python3.6/dist-packages (from importlib-resources>=1.2.0->sweetviz) (1.6.0)\n",
            "Requirement already satisfied: MarkupSafe>=0.23 in /usr/local/lib/python3.6/dist-packages (from jinja2>=2.11.1->sweetviz) (1.1.1)\n",
            "Requirement already satisfied: python-dateutil>=2.1 in /usr/local/lib/python3.6/dist-packages (from matplotlib>=3.1.3->sweetviz) (2.8.1)\n",
            "Requirement already satisfied: pyparsing!=2.0.4,!=2.1.2,!=2.1.6,>=2.0.1 in /usr/local/lib/python3.6/dist-packages (from matplotlib>=3.1.3->sweetviz) (2.4.7)\n",
            "Requirement already satisfied: kiwisolver>=1.0.1 in /usr/local/lib/python3.6/dist-packages (from matplotlib>=3.1.3->sweetviz) (1.2.0)\n",
            "Requirement already satisfied: cycler>=0.10 in /usr/local/lib/python3.6/dist-packages (from matplotlib>=3.1.3->sweetviz) (0.10.0)\n",
            "Requirement already satisfied: pytz>=2017.2 in /usr/local/lib/python3.6/dist-packages (from pandas!=1.0.0,!=1.0.1,!=1.0.2,>=0.25.3->sweetviz) (2018.9)\n",
            "Requirement already satisfied: six>=1.5 in /usr/local/lib/python3.6/dist-packages (from python-dateutil>=2.1->matplotlib>=3.1.3->sweetviz) (1.12.0)\n"
          ],
          "name": "stdout"
        },
        {
          "output_type": "display_data",
          "data": {
            "text/html": [
              "\n",
              "     <input type=\"file\" id=\"files-298ab897-e1e8-4ae0-832e-3d151cb9bac0\" name=\"files[]\" multiple disabled />\n",
              "     <output id=\"result-298ab897-e1e8-4ae0-832e-3d151cb9bac0\">\n",
              "      Upload widget is only available when the cell has been executed in the\n",
              "      current browser session. Please rerun this cell to enable.\n",
              "      </output>\n",
              "      <script src=\"/nbextensions/google.colab/files.js\"></script> "
            ],
            "text/plain": [
              "<IPython.core.display.HTML object>"
            ]
          },
          "metadata": {
            "tags": []
          }
        },
        {
          "output_type": "stream",
          "text": [
            "Saving assumed_pha_thousand.csv to assumed_pha_thousand.csv\n"
          ],
          "name": "stdout"
        }
      ]
    },
    {
      "cell_type": "code",
      "metadata": {
        "id": "5z10ebLVZLNG",
        "colab_type": "code",
        "outputId": "ac84c464-0765-4851-ab5e-121b69f5c816",
        "colab": {
          "base_uri": "https://localhost:8080/",
          "height": 195
        }
      },
      "source": [
        "df = pd.read_csv(io.BytesIO(uploaded['assumed_pha_thousand.csv']))\n",
        "df.fillna(df.median(),\n",
        "          inplace=True,)\n",
        "df.head()"
      ],
      "execution_count": 0,
      "outputs": [
        {
          "output_type": "execute_result",
          "data": {
            "text/html": [
              "<div>\n",
              "<style scoped>\n",
              "    .dataframe tbody tr th:only-of-type {\n",
              "        vertical-align: middle;\n",
              "    }\n",
              "\n",
              "    .dataframe tbody tr th {\n",
              "        vertical-align: top;\n",
              "    }\n",
              "\n",
              "    .dataframe thead th {\n",
              "        text-align: right;\n",
              "    }\n",
              "</style>\n",
              "<table border=\"1\" class=\"dataframe\">\n",
              "  <thead>\n",
              "    <tr style=\"text-align: right;\">\n",
              "      <th></th>\n",
              "      <th>X1</th>\n",
              "      <th>Y1</th>\n",
              "      <th>X2</th>\n",
              "      <th>Y2</th>\n",
              "      <th>MID_POINT_X</th>\n",
              "      <th>MID_POINT_Y</th>\n",
              "      <th>Area</th>\n",
              "      <th>long</th>\n",
              "      <th>lat</th>\n",
              "      <th>Long_minus</th>\n",
              "      <th>Lat_minus</th>\n",
              "    </tr>\n",
              "  </thead>\n",
              "  <tbody>\n",
              "    <tr>\n",
              "      <th>0</th>\n",
              "      <td>297</td>\n",
              "      <td>395</td>\n",
              "      <td>343</td>\n",
              "      <td>519</td>\n",
              "      <td>320.0</td>\n",
              "      <td>457.0</td>\n",
              "      <td>5704</td>\n",
              "      <td>24.920860</td>\n",
              "      <td>67.143323</td>\n",
              "      <td>86</td>\n",
              "      <td>323</td>\n",
              "    </tr>\n",
              "    <tr>\n",
              "      <th>1</th>\n",
              "      <td>839</td>\n",
              "      <td>315</td>\n",
              "      <td>870</td>\n",
              "      <td>404</td>\n",
              "      <td>854.5</td>\n",
              "      <td>359.5</td>\n",
              "      <td>2759</td>\n",
              "      <td>24.920899</td>\n",
              "      <td>67.143506</td>\n",
              "      <td>899</td>\n",
              "      <td>506</td>\n",
              "    </tr>\n",
              "    <tr>\n",
              "      <th>2</th>\n",
              "      <td>1223</td>\n",
              "      <td>284</td>\n",
              "      <td>1256</td>\n",
              "      <td>361</td>\n",
              "      <td>1239.5</td>\n",
              "      <td>322.5</td>\n",
              "      <td>2541</td>\n",
              "      <td>24.920841</td>\n",
              "      <td>67.143605</td>\n",
              "      <td>841</td>\n",
              "      <td>605</td>\n",
              "    </tr>\n",
              "    <tr>\n",
              "      <th>3</th>\n",
              "      <td>871</td>\n",
              "      <td>270</td>\n",
              "      <td>896</td>\n",
              "      <td>334</td>\n",
              "      <td>883.5</td>\n",
              "      <td>302.0</td>\n",
              "      <td>1600</td>\n",
              "      <td>24.920933</td>\n",
              "      <td>67.143584</td>\n",
              "      <td>933</td>\n",
              "      <td>584</td>\n",
              "    </tr>\n",
              "    <tr>\n",
              "      <th>4</th>\n",
              "      <td>421</td>\n",
              "      <td>294</td>\n",
              "      <td>450</td>\n",
              "      <td>367</td>\n",
              "      <td>435.5</td>\n",
              "      <td>330.5</td>\n",
              "      <td>2117</td>\n",
              "      <td>24.921013</td>\n",
              "      <td>67.143442</td>\n",
              "      <td>1013</td>\n",
              "      <td>442</td>\n",
              "    </tr>\n",
              "  </tbody>\n",
              "</table>\n",
              "</div>"
            ],
            "text/plain": [
              "     X1   Y1    X2   Y2  ...       long        lat  Long_minus  Lat_minus\n",
              "0   297  395   343  519  ...  24.920860  67.143323          86        323\n",
              "1   839  315   870  404  ...  24.920899  67.143506         899        506\n",
              "2  1223  284  1256  361  ...  24.920841  67.143605         841        605\n",
              "3   871  270   896  334  ...  24.920933  67.143584         933        584\n",
              "4   421  294   450  367  ...  24.921013  67.143442        1013        442\n",
              "\n",
              "[5 rows x 11 columns]"
            ]
          },
          "metadata": {
            "tags": []
          },
          "execution_count": 2
        }
      ]
    },
    {
      "cell_type": "code",
      "metadata": {
        "id": "cnrtq6cxgShn",
        "colab_type": "code",
        "outputId": "53ec0dcd-a2da-44e3-f396-18eff8cc36d6",
        "colab": {
          "base_uri": "https://localhost:8080/",
          "height": 195
        }
      },
      "source": [
        "df.tail()"
      ],
      "execution_count": 0,
      "outputs": [
        {
          "output_type": "execute_result",
          "data": {
            "text/html": [
              "<div>\n",
              "<style scoped>\n",
              "    .dataframe tbody tr th:only-of-type {\n",
              "        vertical-align: middle;\n",
              "    }\n",
              "\n",
              "    .dataframe tbody tr th {\n",
              "        vertical-align: top;\n",
              "    }\n",
              "\n",
              "    .dataframe thead th {\n",
              "        text-align: right;\n",
              "    }\n",
              "</style>\n",
              "<table border=\"1\" class=\"dataframe\">\n",
              "  <thead>\n",
              "    <tr style=\"text-align: right;\">\n",
              "      <th></th>\n",
              "      <th>X1</th>\n",
              "      <th>Y1</th>\n",
              "      <th>X2</th>\n",
              "      <th>Y2</th>\n",
              "      <th>MID_POINT_X</th>\n",
              "      <th>MID_POINT_Y</th>\n",
              "      <th>Area</th>\n",
              "      <th>long</th>\n",
              "      <th>lat</th>\n",
              "      <th>Long_minus</th>\n",
              "      <th>Lat_minus</th>\n",
              "    </tr>\n",
              "  </thead>\n",
              "  <tbody>\n",
              "    <tr>\n",
              "      <th>13</th>\n",
              "      <td>1097</td>\n",
              "      <td>236</td>\n",
              "      <td>1117</td>\n",
              "      <td>274</td>\n",
              "      <td>1107.0</td>\n",
              "      <td>255.0</td>\n",
              "      <td>760</td>\n",
              "      <td>24.921000</td>\n",
              "      <td>67.143724</td>\n",
              "      <td>1000</td>\n",
              "      <td>724</td>\n",
              "    </tr>\n",
              "    <tr>\n",
              "      <th>14</th>\n",
              "      <td>870</td>\n",
              "      <td>274</td>\n",
              "      <td>897</td>\n",
              "      <td>343</td>\n",
              "      <td>883.5</td>\n",
              "      <td>308.5</td>\n",
              "      <td>1863</td>\n",
              "      <td>24.920927</td>\n",
              "      <td>67.143555</td>\n",
              "      <td>927</td>\n",
              "      <td>555</td>\n",
              "    </tr>\n",
              "    <tr>\n",
              "      <th>15</th>\n",
              "      <td>215</td>\n",
              "      <td>409</td>\n",
              "      <td>264</td>\n",
              "      <td>535</td>\n",
              "      <td>239.5</td>\n",
              "      <td>472.0</td>\n",
              "      <td>6174</td>\n",
              "      <td>24.920873</td>\n",
              "      <td>67.143292</td>\n",
              "      <td>873</td>\n",
              "      <td>292</td>\n",
              "    </tr>\n",
              "    <tr>\n",
              "      <th>16</th>\n",
              "      <td>270</td>\n",
              "      <td>548</td>\n",
              "      <td>342</td>\n",
              "      <td>689</td>\n",
              "      <td>306.0</td>\n",
              "      <td>618.5</td>\n",
              "      <td>10152</td>\n",
              "      <td>24.920829</td>\n",
              "      <td>67.143271</td>\n",
              "      <td>829</td>\n",
              "      <td>271</td>\n",
              "    </tr>\n",
              "    <tr>\n",
              "      <th>17</th>\n",
              "      <td>358</td>\n",
              "      <td>536</td>\n",
              "      <td>429</td>\n",
              "      <td>682</td>\n",
              "      <td>393.5</td>\n",
              "      <td>609.0</td>\n",
              "      <td>10366</td>\n",
              "      <td>24.920827</td>\n",
              "      <td>67.143284</td>\n",
              "      <td>827</td>\n",
              "      <td>284</td>\n",
              "    </tr>\n",
              "  </tbody>\n",
              "</table>\n",
              "</div>"
            ],
            "text/plain": [
              "      X1   Y1    X2   Y2  ...       long        lat  Long_minus  Lat_minus\n",
              "13  1097  236  1117  274  ...  24.921000  67.143724        1000        724\n",
              "14   870  274   897  343  ...  24.920927  67.143555         927        555\n",
              "15   215  409   264  535  ...  24.920873  67.143292         873        292\n",
              "16   270  548   342  689  ...  24.920829  67.143271         829        271\n",
              "17   358  536   429  682  ...  24.920827  67.143284         827        284\n",
              "\n",
              "[5 rows x 11 columns]"
            ]
          },
          "metadata": {
            "tags": []
          },
          "execution_count": 3
        }
      ]
    },
    {
      "cell_type": "code",
      "metadata": {
        "id": "FsKpWXUGCRx1",
        "colab_type": "code",
        "outputId": "6e7b4175-3f16-4b26-cd33-c7a400fd975c",
        "colab": {
          "base_uri": "https://localhost:8080/",
          "height": 343
        }
      },
      "source": [
        "df1 = df.head()\n",
        "df2= df.tail()\n",
        "conc_data_row = pd.concat([df1, df2],\n",
        "                          axis=0, # Adds dataframes in row\n",
        "                          ignore_index=False,)\n",
        "conc_data_row"
      ],
      "execution_count": 0,
      "outputs": [
        {
          "output_type": "execute_result",
          "data": {
            "text/html": [
              "<div>\n",
              "<style scoped>\n",
              "    .dataframe tbody tr th:only-of-type {\n",
              "        vertical-align: middle;\n",
              "    }\n",
              "\n",
              "    .dataframe tbody tr th {\n",
              "        vertical-align: top;\n",
              "    }\n",
              "\n",
              "    .dataframe thead th {\n",
              "        text-align: right;\n",
              "    }\n",
              "</style>\n",
              "<table border=\"1\" class=\"dataframe\">\n",
              "  <thead>\n",
              "    <tr style=\"text-align: right;\">\n",
              "      <th></th>\n",
              "      <th>X1</th>\n",
              "      <th>Y1</th>\n",
              "      <th>X2</th>\n",
              "      <th>Y2</th>\n",
              "      <th>MID_POINT_X</th>\n",
              "      <th>MID_POINT_Y</th>\n",
              "      <th>Area</th>\n",
              "      <th>long</th>\n",
              "      <th>lat</th>\n",
              "      <th>Long_minus</th>\n",
              "      <th>Lat_minus</th>\n",
              "    </tr>\n",
              "  </thead>\n",
              "  <tbody>\n",
              "    <tr>\n",
              "      <th>0</th>\n",
              "      <td>297</td>\n",
              "      <td>395</td>\n",
              "      <td>343</td>\n",
              "      <td>519</td>\n",
              "      <td>320.0</td>\n",
              "      <td>457.0</td>\n",
              "      <td>5704</td>\n",
              "      <td>24.920860</td>\n",
              "      <td>67.143323</td>\n",
              "      <td>86</td>\n",
              "      <td>323</td>\n",
              "    </tr>\n",
              "    <tr>\n",
              "      <th>1</th>\n",
              "      <td>839</td>\n",
              "      <td>315</td>\n",
              "      <td>870</td>\n",
              "      <td>404</td>\n",
              "      <td>854.5</td>\n",
              "      <td>359.5</td>\n",
              "      <td>2759</td>\n",
              "      <td>24.920899</td>\n",
              "      <td>67.143506</td>\n",
              "      <td>899</td>\n",
              "      <td>506</td>\n",
              "    </tr>\n",
              "    <tr>\n",
              "      <th>2</th>\n",
              "      <td>1223</td>\n",
              "      <td>284</td>\n",
              "      <td>1256</td>\n",
              "      <td>361</td>\n",
              "      <td>1239.5</td>\n",
              "      <td>322.5</td>\n",
              "      <td>2541</td>\n",
              "      <td>24.920841</td>\n",
              "      <td>67.143605</td>\n",
              "      <td>841</td>\n",
              "      <td>605</td>\n",
              "    </tr>\n",
              "    <tr>\n",
              "      <th>3</th>\n",
              "      <td>871</td>\n",
              "      <td>270</td>\n",
              "      <td>896</td>\n",
              "      <td>334</td>\n",
              "      <td>883.5</td>\n",
              "      <td>302.0</td>\n",
              "      <td>1600</td>\n",
              "      <td>24.920933</td>\n",
              "      <td>67.143584</td>\n",
              "      <td>933</td>\n",
              "      <td>584</td>\n",
              "    </tr>\n",
              "    <tr>\n",
              "      <th>4</th>\n",
              "      <td>421</td>\n",
              "      <td>294</td>\n",
              "      <td>450</td>\n",
              "      <td>367</td>\n",
              "      <td>435.5</td>\n",
              "      <td>330.5</td>\n",
              "      <td>2117</td>\n",
              "      <td>24.921013</td>\n",
              "      <td>67.143442</td>\n",
              "      <td>1013</td>\n",
              "      <td>442</td>\n",
              "    </tr>\n",
              "    <tr>\n",
              "      <th>13</th>\n",
              "      <td>1097</td>\n",
              "      <td>236</td>\n",
              "      <td>1117</td>\n",
              "      <td>274</td>\n",
              "      <td>1107.0</td>\n",
              "      <td>255.0</td>\n",
              "      <td>760</td>\n",
              "      <td>24.921000</td>\n",
              "      <td>67.143724</td>\n",
              "      <td>1000</td>\n",
              "      <td>724</td>\n",
              "    </tr>\n",
              "    <tr>\n",
              "      <th>14</th>\n",
              "      <td>870</td>\n",
              "      <td>274</td>\n",
              "      <td>897</td>\n",
              "      <td>343</td>\n",
              "      <td>883.5</td>\n",
              "      <td>308.5</td>\n",
              "      <td>1863</td>\n",
              "      <td>24.920927</td>\n",
              "      <td>67.143555</td>\n",
              "      <td>927</td>\n",
              "      <td>555</td>\n",
              "    </tr>\n",
              "    <tr>\n",
              "      <th>15</th>\n",
              "      <td>215</td>\n",
              "      <td>409</td>\n",
              "      <td>264</td>\n",
              "      <td>535</td>\n",
              "      <td>239.5</td>\n",
              "      <td>472.0</td>\n",
              "      <td>6174</td>\n",
              "      <td>24.920873</td>\n",
              "      <td>67.143292</td>\n",
              "      <td>873</td>\n",
              "      <td>292</td>\n",
              "    </tr>\n",
              "    <tr>\n",
              "      <th>16</th>\n",
              "      <td>270</td>\n",
              "      <td>548</td>\n",
              "      <td>342</td>\n",
              "      <td>689</td>\n",
              "      <td>306.0</td>\n",
              "      <td>618.5</td>\n",
              "      <td>10152</td>\n",
              "      <td>24.920829</td>\n",
              "      <td>67.143271</td>\n",
              "      <td>829</td>\n",
              "      <td>271</td>\n",
              "    </tr>\n",
              "    <tr>\n",
              "      <th>17</th>\n",
              "      <td>358</td>\n",
              "      <td>536</td>\n",
              "      <td>429</td>\n",
              "      <td>682</td>\n",
              "      <td>393.5</td>\n",
              "      <td>609.0</td>\n",
              "      <td>10366</td>\n",
              "      <td>24.920827</td>\n",
              "      <td>67.143284</td>\n",
              "      <td>827</td>\n",
              "      <td>284</td>\n",
              "    </tr>\n",
              "  </tbody>\n",
              "</table>\n",
              "</div>"
            ],
            "text/plain": [
              "      X1   Y1    X2   Y2  ...       long        lat  Long_minus  Lat_minus\n",
              "0    297  395   343  519  ...  24.920860  67.143323          86        323\n",
              "1    839  315   870  404  ...  24.920899  67.143506         899        506\n",
              "2   1223  284  1256  361  ...  24.920841  67.143605         841        605\n",
              "3    871  270   896  334  ...  24.920933  67.143584         933        584\n",
              "4    421  294   450  367  ...  24.921013  67.143442        1013        442\n",
              "13  1097  236  1117  274  ...  24.921000  67.143724        1000        724\n",
              "14   870  274   897  343  ...  24.920927  67.143555         927        555\n",
              "15   215  409   264  535  ...  24.920873  67.143292         873        292\n",
              "16   270  548   342  689  ...  24.920829  67.143271         829        271\n",
              "17   358  536   429  682  ...  24.920827  67.143284         827        284\n",
              "\n",
              "[10 rows x 11 columns]"
            ]
          },
          "metadata": {
            "tags": []
          },
          "execution_count": 4
        }
      ]
    },
    {
      "cell_type": "code",
      "metadata": {
        "id": "_2g9njoOWTUI",
        "colab_type": "code",
        "colab": {}
      },
      "source": [
        "assert df['X1'].notnull().all()\n",
        "assert df['Y1'].notnull().all()\n",
        "assert df['X2'].notnull().all()\n",
        "assert df['Y2'].notnull().all()\n",
        "assert df['MID_POINT_X'].notnull().all()\n",
        "assert df['MID_POINT_Y'].notnull().all()\n",
        "assert df['Area'].notnull().all()\n",
        "assert df['long'].notnull().all()\n",
        "assert df['lat'].notnull().all()\n",
        "assert df['Long_minus'].notnull().all()\n",
        "assert df['Lat_minus'].notnull().all()"
      ],
      "execution_count": 0,
      "outputs": []
    },
    {
      "cell_type": "code",
      "metadata": {
        "id": "S5Txdj9FSAZU",
        "colab_type": "code",
        "outputId": "89212bfc-634f-4543-aff6-8ab574072877",
        "colab": {
          "base_uri": "https://localhost:8080/",
          "height": 34
        }
      },
      "source": [
        "df.drop_duplicates(subset=df.columns.values[:-1],\n",
        "                   keep='first',\n",
        "                   inplace=True,)\n",
        "print(df.shape, \"Duplicated rows have been removed.\")"
      ],
      "execution_count": 0,
      "outputs": [
        {
          "output_type": "stream",
          "text": [
            "(18, 11) Duplicated rows have been removed.\n"
          ],
          "name": "stdout"
        }
      ]
    },
    {
      "cell_type": "code",
      "metadata": {
        "id": "pS33m9HNxs-r",
        "colab_type": "code",
        "outputId": "eec818d1-9cce-4448-9753-90695b477b5c",
        "colab": {
          "base_uri": "https://localhost:8080/",
          "height": 319
        }
      },
      "source": [
        "df.info()"
      ],
      "execution_count": 0,
      "outputs": [
        {
          "output_type": "stream",
          "text": [
            "<class 'pandas.core.frame.DataFrame'>\n",
            "Int64Index: 18 entries, 0 to 17\n",
            "Data columns (total 11 columns):\n",
            " #   Column       Non-Null Count  Dtype  \n",
            "---  ------       --------------  -----  \n",
            " 0   X1           18 non-null     int64  \n",
            " 1   Y1           18 non-null     int64  \n",
            " 2   X2           18 non-null     int64  \n",
            " 3   Y2           18 non-null     int64  \n",
            " 4   MID_POINT_X  18 non-null     float64\n",
            " 5   MID_POINT_Y  18 non-null     float64\n",
            " 6   Area         18 non-null     int64  \n",
            " 7   long         18 non-null     float64\n",
            " 8   lat          18 non-null     float64\n",
            " 9   Long_minus   18 non-null     int64  \n",
            " 10  Lat_minus    18 non-null     int64  \n",
            "dtypes: float64(4), int64(7)\n",
            "memory usage: 1.7 KB\n"
          ],
          "name": "stdout"
        }
      ]
    },
    {
      "cell_type": "code",
      "metadata": {
        "id": "6yph87sqF35t",
        "colab_type": "code",
        "colab": {}
      },
      "source": [
        "df.X1 = df.X1.astype('float64')\n",
        "df.Y1 = df.Y1.astype('float64')\n",
        "df.X2 = df.X2.astype('float64')\n",
        "df.Y2 = df.Y2.astype('float64')\n",
        "df.Area = df.Area.astype('float64')\n",
        "df.Long_minus = df.Long_minus.astype('float64')\n",
        "df.Lat_minus = df.Lat_minus.astype('float64')"
      ],
      "execution_count": 0,
      "outputs": []
    },
    {
      "cell_type": "code",
      "metadata": {
        "id": "pDKVxT1PKXsb",
        "colab_type": "code",
        "outputId": "f38248ae-9464-4528-ad6b-78b2f3a598ea",
        "colab": {
          "base_uri": "https://localhost:8080/",
          "height": 319
        }
      },
      "source": [
        "df.info()"
      ],
      "execution_count": 0,
      "outputs": [
        {
          "output_type": "stream",
          "text": [
            "<class 'pandas.core.frame.DataFrame'>\n",
            "Int64Index: 18 entries, 0 to 17\n",
            "Data columns (total 11 columns):\n",
            " #   Column       Non-Null Count  Dtype  \n",
            "---  ------       --------------  -----  \n",
            " 0   X1           18 non-null     float64\n",
            " 1   Y1           18 non-null     float64\n",
            " 2   X2           18 non-null     float64\n",
            " 3   Y2           18 non-null     float64\n",
            " 4   MID_POINT_X  18 non-null     float64\n",
            " 5   MID_POINT_Y  18 non-null     float64\n",
            " 6   Area         18 non-null     float64\n",
            " 7   long         18 non-null     float64\n",
            " 8   lat          18 non-null     float64\n",
            " 9   Long_minus   18 non-null     float64\n",
            " 10  Lat_minus    18 non-null     float64\n",
            "dtypes: float64(11)\n",
            "memory usage: 1.7 KB\n"
          ],
          "name": "stdout"
        }
      ]
    },
    {
      "cell_type": "code",
      "metadata": {
        "id": "63smIL6i852y",
        "colab_type": "code",
        "outputId": "1313942b-cde4-4860-975c-e2d4031085f4",
        "colab": {
          "base_uri": "https://localhost:8080/",
          "height": 67
        }
      },
      "source": [
        "my_report = sv.analyze(df)\n",
        "my_report.show_html(\"coo_mid_report.html\")"
      ],
      "execution_count": 0,
      "outputs": [
        {
          "output_type": "stream",
          "text": [
            ":FEATURES DONE:                    |                     | [  0%]   00:05  -> (00:00 left)\n",
            ":PAIRWISE DONE:                    |█████████████████████| [100%]   00:00  -> (00:00 left)\n"
          ],
          "name": "stderr"
        },
        {
          "output_type": "stream",
          "text": [
            "Creating Associations graph... DONE!\n"
          ],
          "name": "stdout"
        }
      ]
    },
    {
      "cell_type": "code",
      "metadata": {
        "id": "7RqDkEBEmhab",
        "colab_type": "code",
        "outputId": "6d45c47c-09fe-432b-f8de-aae83918687c",
        "colab": {
          "base_uri": "https://localhost:8080/",
          "height": 328
        }
      },
      "source": [
        "cols = ['long',\n",
        "        'lat',\n",
        "        'MID_POINT_X',]\n",
        "fig, axs = plt.subplots(1,\n",
        "                        3,\n",
        "                        figsize=(20, 5),\n",
        "                        facecolor='w',\n",
        "                        edgecolor='k',)\n",
        "axs = axs.ravel()\n",
        "\n",
        "for i, column in enumerate(cols):\n",
        "    isolation_forest = IsolationForest(contamination='auto')\n",
        "    isolation_forest.fit(df[column].values.reshape(-1,1))\n",
        "\n",
        "    xx = np.linspace(df[column].min(),\n",
        "                     df[column].max(),\n",
        "                     len(df)).reshape(-1,1)\n",
        "    anomaly_score = isolation_forest.decision_function(xx)\n",
        "    outlier = isolation_forest.predict(xx)\n",
        "    \n",
        "    axs[i].plot(xx,\n",
        "                anomaly_score,\n",
        "                label='anomaly score',)\n",
        "    axs[i].fill_between(xx.T[0],\n",
        "                        np.min(anomaly_score),\n",
        "                        np.max(anomaly_score), \n",
        "                     where=outlier==-1,\n",
        "                     color='r', \n",
        "                     alpha=.4,\n",
        "                     label='outlier region',)\n",
        "    axs[i].legend()\n",
        "    axs[i].set_title(column)"
      ],
      "execution_count": 0,
      "outputs": [
        {
          "output_type": "display_data",
          "data": {
            "image/png": "[encoded data removed]",
            "text/plain": [
              "<Figure size 2000x500 with 3 Axes>"
            ]
          },
          "metadata": {
            "tags": []
          }
        }
      ]
    },
    {
      "cell_type": "code",
      "metadata": {
        "id": "1q3y6UcKx-zJ",
        "colab_type": "code",
        "colab": {}
      },
      "source": [
        "scaler = StandardScaler()\n",
        "scaler.fit(df)\n",
        "scaled_df = scaler.transform(df)"
      ],
      "execution_count": 0,
      "outputs": []
    },
    {
      "cell_type": "code",
      "metadata": {
        "id": "_ojRtkjhPl8g",
        "colab_type": "code",
        "outputId": "8d373be2-66e4-42ad-b179-e8bed4add85c",
        "colab": {
          "base_uri": "https://localhost:8080/",
          "height": 34
        }
      },
      "source": [
        "pca = PCA(n_components=2)\n",
        "df_pca = pca.fit_transform(scaled_df)\n",
        "df_pca.shape"
      ],
      "execution_count": 0,
      "outputs": [
        {
          "output_type": "execute_result",
          "data": {
            "text/plain": [
              "(18, 2)"
            ]
          },
          "metadata": {
            "tags": []
          },
          "execution_count": 13
        }
      ]
    },
    {
      "cell_type": "code",
      "metadata": {
        "id": "IBbzVZ4tFIVZ",
        "colab_type": "code",
        "outputId": "ddb269d1-e97b-4268-c7c7-b67d78228bb3",
        "colab": {
          "base_uri": "https://localhost:8080/",
          "height": 34
        }
      },
      "source": [
        "pca.explained_variance_ratio_"
      ],
      "execution_count": 0,
      "outputs": [
        {
          "output_type": "execute_result",
          "data": {
            "text/plain": [
              "array([0.73039592, 0.16044618])"
            ]
          },
          "metadata": {
            "tags": []
          },
          "execution_count": 14
        }
      ]
    },
    {
      "cell_type": "code",
      "metadata": {
        "id": "NTPcVhDBW8Ue",
        "colab_type": "code",
        "outputId": "bc4e6ac4-5dd1-40ae-f1aa-a60777b6141d",
        "colab": {
          "base_uri": "https://localhost:8080/",
          "height": 34
        }
      },
      "source": [
        "any(df.long <= 0)"
      ],
      "execution_count": 0,
      "outputs": [
        {
          "output_type": "execute_result",
          "data": {
            "text/plain": [
              "False"
            ]
          },
          "metadata": {
            "tags": []
          },
          "execution_count": 15
        }
      ]
    },
    {
      "cell_type": "code",
      "metadata": {
        "id": "5sPPoOO1W_6f",
        "colab_type": "code",
        "outputId": "43531307-1fa6-41cb-cf02-5b02069ba376",
        "colab": {
          "base_uri": "https://localhost:8080/",
          "height": 34
        }
      },
      "source": [
        "any(df.lat <= 0)"
      ],
      "execution_count": 0,
      "outputs": [
        {
          "output_type": "execute_result",
          "data": {
            "text/plain": [
              "False"
            ]
          },
          "metadata": {
            "tags": []
          },
          "execution_count": 16
        }
      ]
    },
    {
      "cell_type": "code",
      "metadata": {
        "id": "ekM9P7_DXC-x",
        "colab_type": "code",
        "outputId": "06435467-7e0f-4454-b3de-ead755833b5d",
        "colab": {
          "base_uri": "https://localhost:8080/",
          "height": 34
        }
      },
      "source": [
        "any(df.MID_POINT_X <= 0)"
      ],
      "execution_count": 0,
      "outputs": [
        {
          "output_type": "execute_result",
          "data": {
            "text/plain": [
              "False"
            ]
          },
          "metadata": {
            "tags": []
          },
          "execution_count": 17
        }
      ]
    },
    {
      "cell_type": "code",
      "metadata": {
        "id": "chvcW5p6ZPn-",
        "colab_type": "code",
        "colab": {}
      },
      "source": [
        "X = df[['long',\n",
        "        'lat',]]\n",
        "y = df['MID_POINT_X']\n",
        "\n",
        "# Split the data into training/testing sets\n",
        "X_train = X[:10]\n",
        "X_test = X[10:]\n",
        "\n",
        "# Split the targets into training/testing sets\n",
        "y_train = y[:10]\n",
        "y_test = y[10:]"
      ],
      "execution_count": 0,
      "outputs": []
    },
    {
      "cell_type": "code",
      "metadata": {
        "id": "iEKuTTqSEpwk",
        "colab_type": "code",
        "outputId": "7af5c4cc-5f54-45ae-f891-97838d52a679",
        "colab": {
          "base_uri": "https://localhost:8080/",
          "height": 195
        }
      },
      "source": [
        "X_train.head()"
      ],
      "execution_count": 0,
      "outputs": [
        {
          "output_type": "execute_result",
          "data": {
            "text/html": [
              "<div>\n",
              "<style scoped>\n",
              "    .dataframe tbody tr th:only-of-type {\n",
              "        vertical-align: middle;\n",
              "    }\n",
              "\n",
              "    .dataframe tbody tr th {\n",
              "        vertical-align: top;\n",
              "    }\n",
              "\n",
              "    .dataframe thead th {\n",
              "        text-align: right;\n",
              "    }\n",
              "</style>\n",
              "<table border=\"1\" class=\"dataframe\">\n",
              "  <thead>\n",
              "    <tr style=\"text-align: right;\">\n",
              "      <th></th>\n",
              "      <th>long</th>\n",
              "      <th>lat</th>\n",
              "    </tr>\n",
              "  </thead>\n",
              "  <tbody>\n",
              "    <tr>\n",
              "      <th>0</th>\n",
              "      <td>24.920860</td>\n",
              "      <td>67.143323</td>\n",
              "    </tr>\n",
              "    <tr>\n",
              "      <th>1</th>\n",
              "      <td>24.920899</td>\n",
              "      <td>67.143506</td>\n",
              "    </tr>\n",
              "    <tr>\n",
              "      <th>2</th>\n",
              "      <td>24.920841</td>\n",
              "      <td>67.143605</td>\n",
              "    </tr>\n",
              "    <tr>\n",
              "      <th>3</th>\n",
              "      <td>24.920933</td>\n",
              "      <td>67.143584</td>\n",
              "    </tr>\n",
              "    <tr>\n",
              "      <th>4</th>\n",
              "      <td>24.921013</td>\n",
              "      <td>67.143442</td>\n",
              "    </tr>\n",
              "  </tbody>\n",
              "</table>\n",
              "</div>"
            ],
            "text/plain": [
              "        long        lat\n",
              "0  24.920860  67.143323\n",
              "1  24.920899  67.143506\n",
              "2  24.920841  67.143605\n",
              "3  24.920933  67.143584\n",
              "4  24.921013  67.143442"
            ]
          },
          "metadata": {
            "tags": []
          },
          "execution_count": 19
        }
      ]
    },
    {
      "cell_type": "code",
      "metadata": {
        "id": "pKh3nch2Zan2",
        "colab_type": "code",
        "outputId": "5d7f45d1-7627-4e17-d22c-b161d21f5a37",
        "colab": {
          "base_uri": "https://localhost:8080/",
          "height": 34
        }
      },
      "source": [
        "regr.fit(X_train,\n",
        "         y_train,)"
      ],
      "execution_count": 0,
      "outputs": [
        {
          "output_type": "execute_result",
          "data": {
            "text/plain": [
              "LinearRegression(copy_X=True, fit_intercept=True, n_jobs=None, normalize=False)"
            ]
          },
          "metadata": {
            "tags": []
          },
          "execution_count": 20
        }
      ]
    },
    {
      "cell_type": "code",
      "metadata": {
        "id": "sSbwLUW5Zhi1",
        "colab_type": "code",
        "outputId": "541ee6bd-44d2-4eee-86b2-f884602a8e20",
        "colab": {
          "base_uri": "https://localhost:8080/",
          "height": 269
        }
      },
      "source": [
        "y_pred = regr.predict(X_test)\n",
        "print(X_test)\n",
        "print(y_pred)\n",
        "\n",
        "print('Coefficients: \\n',\n",
        "      regr.coef_,)\n",
        "\n",
        "print('Mean squared error: %.2f'% mean_squared_error(y_test,\n",
        "                                                     y_pred,))\n",
        "\n",
        "print('Coefficient of determination: %.2f'\n",
        "      % r2_score(y_test,\n",
        "                 y_pred,))"
      ],
      "execution_count": 0,
      "outputs": [
        {
          "output_type": "stream",
          "text": [
            "         long        lat\n",
            "10  24.921001  67.143343\n",
            "11  24.920852  67.143563\n",
            "12  24.920942  67.143555\n",
            "13  24.921000  67.143724\n",
            "14  24.920927  67.143555\n",
            "15  24.920873  67.143292\n",
            "16  24.920829  67.143271\n",
            "17  24.920827  67.143284\n",
            "[ 227.87995842 1094.80478472  851.56105649 1085.82962026  889.10798922\n",
            "  433.77185991  496.7589329   530.95365497]\n",
            "Coefficients: \n",
            " [-2503128.84789164  2245266.49077892]\n",
            "Mean squared error: 11856.89\n",
            "Coefficient of determination: 0.90\n"
          ],
          "name": "stdout"
        }
      ]
    },
    {
      "cell_type": "code",
      "metadata": {
        "id": "CNAftjN7Zw9o",
        "colab_type": "code",
        "outputId": "87e1490c-eeb0-4864-856c-4413eee0f691",
        "colab": {
          "base_uri": "https://localhost:8080/",
          "height": 34
        }
      },
      "source": [
        "regr.predict([[24.920925,\n",
        "               67.143550,]])"
      ],
      "execution_count": 0,
      "outputs": [
        {
          "output_type": "execute_result",
          "data": {
            "text/plain": [
              "array([882.88791445])"
            ]
          },
          "metadata": {
            "tags": []
          },
          "execution_count": 22
        }
      ]
    }
  ]
}