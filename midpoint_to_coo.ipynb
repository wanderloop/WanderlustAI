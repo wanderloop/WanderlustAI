{
  "nbformat": 4,
  "nbformat_minor": 0,
  "metadata": {
    "colab": {
      "name": "midpoint_to_coo",
      "provenance": [],
      "collapsed_sections": [],
      "authorship_tag": "ABX9TyO9C4eyjCv+4EneCyuSrtT1",
      "include_colab_link": true
    },
    "kernelspec": {
      "name": "python3",
      "display_name": "Python 3"
    }
  },
  "cells": [
    {
      "cell_type": "markdown",
      "metadata": {
        "id": "view-in-github",
        "colab_type": "text"
      },
      "source": [
        "<a href=\"https://colab.research.google.com/github/wanderloop/WanderlustAI/blob/master/midpoint_to_coo.ipynb\" target=\"_parent\"><img src=\"https://colab.research.google.com/assets/colab-badge.svg\" alt=\"Open In Colab\"/></a>"
      ]
    },
    {
      "cell_type": "code",
      "metadata": {
        "id": "gl4N4T30bEHQ",
        "colab_type": "code",
        "colab": {
          "resources": {
            "http://localhost:8080/nbextensions/google.colab/files.js": {
              "data": "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",
              "ok": true,
              "headers": [
                [
                  "content-type",
                  "application/javascript"
                ]
              ],
              "status": 200,
              "status_text": ""
            }
          },
          "base_uri": "https://localhost:8080/",
          "height": 1000
        },
        "outputId": "68edf54f-6030-413d-b8d5-d2f699b912ed"
      },
      "source": [
        "from pandas import DataFrame, read_csv, concat\n",
        "!pip install pandas_profiling==2.8.0\n",
        "from pandas_profiling import ProfileReport\n",
        "from numpy import linspace, min, max, sqrt, ravel\n",
        "import matplotlib.pyplot as plt\n",
        "plt.style.use('fivethirtyeight')\n",
        "from sklearn.linear_model import LinearRegression\n",
        "from sklearn.model_selection import train_test_split\n",
        "from sklearn.metrics import mean_absolute_error, mean_squared_error, r2_score, explained_variance_score\n",
        "from sklearn.ensemble import IsolationForest\n",
        "from sklearn.preprocessing import StandardScaler\n",
        "from sklearn.decomposition import PCA\n",
        "from gc import collect\n",
        "from pickle import dump\n",
        "from io import BytesIO\n",
        "from google.colab import files\n",
        "uploaded = files.upload()"
      ],
      "execution_count": null,
      "outputs": [
        {
          "output_type": "stream",
          "text": [
            "Requirement already satisfied: pandas_profiling==2.8.0 in /usr/local/lib/python3.6/dist-packages (2.8.0)\n",
            "Requirement already satisfied: visions[type_image_path]==0.4.4 in /usr/local/lib/python3.6/dist-packages (from pandas_profiling==2.8.0) (0.4.4)\n",
            "Requirement already satisfied: missingno>=0.4.2 in /usr/local/lib/python3.6/dist-packages (from pandas_profiling==2.8.0) (0.4.2)\n",
            "Requirement already satisfied: scipy>=1.4.1 in /usr/local/lib/python3.6/dist-packages (from pandas_profiling==2.8.0) (1.4.1)\n",
            "Requirement already satisfied: phik>=0.9.10 in /usr/local/lib/python3.6/dist-packages (from pandas_profiling==2.8.0) (0.10.0)\n",
            "Requirement already satisfied: numpy>=1.16.0 in /usr/local/lib/python3.6/dist-packages (from pandas_profiling==2.8.0) (1.18.5)\n",
            "Requirement already satisfied: pandas!=1.0.0,!=1.0.1,!=1.0.2,>=0.25.3 in /usr/local/lib/python3.6/dist-packages (from pandas_profiling==2.8.0) (1.0.4)\n",
            "Requirement already satisfied: tangled-up-in-unicode>=0.0.6 in /usr/local/lib/python3.6/dist-packages (from pandas_profiling==2.8.0) (0.0.6)\n",
            "Requirement already satisfied: confuse>=1.0.0 in /usr/local/lib/python3.6/dist-packages (from pandas_profiling==2.8.0) (1.1.0)\n",
            "Requirement already satisfied: tqdm>=4.43.0 in /usr/local/lib/python3.6/dist-packages (from pandas_profiling==2.8.0) (4.46.1)\n",
            "Requirement already satisfied: matplotlib>=3.2.0 in /usr/local/lib/python3.6/dist-packages (from pandas_profiling==2.8.0) (3.2.1)\n",
            "Requirement already satisfied: htmlmin>=0.1.12 in /usr/local/lib/python3.6/dist-packages (from pandas_profiling==2.8.0) (0.1.12)\n",
            "Requirement already satisfied: jinja2>=2.11.1 in /usr/local/lib/python3.6/dist-packages (from pandas_profiling==2.8.0) (2.11.2)\n",
            "Requirement already satisfied: ipywidgets>=7.5.1 in /usr/local/lib/python3.6/dist-packages (from pandas_profiling==2.8.0) (7.5.1)\n",
            "Requirement already satisfied: requests>=2.23.0 in /usr/local/lib/python3.6/dist-packages (from pandas_profiling==2.8.0) (2.23.0)\n",
            "Requirement already satisfied: joblib in /usr/local/lib/python3.6/dist-packages (from pandas_profiling==2.8.0) (0.15.1)\n",
            "Requirement already satisfied: astropy>=4.0 in /usr/local/lib/python3.6/dist-packages (from pandas_profiling==2.8.0) (4.0.1.post1)\n",
            "Requirement already satisfied: networkx>=2.4 in /usr/local/lib/python3.6/dist-packages (from visions[type_image_path]==0.4.4->pandas_profiling==2.8.0) (2.4)\n",
            "Requirement already satisfied: attrs>=19.3.0 in /usr/local/lib/python3.6/dist-packages (from visions[type_image_path]==0.4.4->pandas_profiling==2.8.0) (19.3.0)\n",
            "Requirement already satisfied: Pillow; extra == \"type_image_path\" in /usr/local/lib/python3.6/dist-packages (from visions[type_image_path]==0.4.4->pandas_profiling==2.8.0) (7.0.0)\n",
            "Requirement already satisfied: imagehash; extra == \"type_image_path\" in /usr/local/lib/python3.6/dist-packages (from visions[type_image_path]==0.4.4->pandas_profiling==2.8.0) (4.1.0)\n",
            "Requirement already satisfied: seaborn in /usr/local/lib/python3.6/dist-packages (from missingno>=0.4.2->pandas_profiling==2.8.0) (0.10.1)\n",
            "Requirement already satisfied: numba>=0.38.1 in /usr/local/lib/python3.6/dist-packages (from phik>=0.9.10->pandas_profiling==2.8.0) (0.48.0)\n",
            "Requirement already satisfied: pytz>=2017.2 in /usr/local/lib/python3.6/dist-packages (from pandas!=1.0.0,!=1.0.1,!=1.0.2,>=0.25.3->pandas_profiling==2.8.0) (2018.9)\n",
            "Requirement already satisfied: python-dateutil>=2.6.1 in /usr/local/lib/python3.6/dist-packages (from pandas!=1.0.0,!=1.0.1,!=1.0.2,>=0.25.3->pandas_profiling==2.8.0) (2.8.1)\n",
            "Requirement already satisfied: pyyaml in /usr/local/lib/python3.6/dist-packages (from confuse>=1.0.0->pandas_profiling==2.8.0) (3.13)\n",
            "Requirement already satisfied: cycler>=0.10 in /usr/local/lib/python3.6/dist-packages (from matplotlib>=3.2.0->pandas_profiling==2.8.0) (0.10.0)\n",
            "Requirement already satisfied: kiwisolver>=1.0.1 in /usr/local/lib/python3.6/dist-packages (from matplotlib>=3.2.0->pandas_profiling==2.8.0) (1.2.0)\n",
            "Requirement already satisfied: pyparsing!=2.0.4,!=2.1.2,!=2.1.6,>=2.0.1 in /usr/local/lib/python3.6/dist-packages (from matplotlib>=3.2.0->pandas_profiling==2.8.0) (2.4.7)\n",
            "Requirement already satisfied: MarkupSafe>=0.23 in /usr/local/lib/python3.6/dist-packages (from jinja2>=2.11.1->pandas_profiling==2.8.0) (1.1.1)\n",
            "Requirement already satisfied: widgetsnbextension~=3.5.0 in /usr/local/lib/python3.6/dist-packages (from ipywidgets>=7.5.1->pandas_profiling==2.8.0) (3.5.1)\n",
            "Requirement already satisfied: ipython>=4.0.0; python_version >= \"3.3\" in /usr/local/lib/python3.6/dist-packages (from ipywidgets>=7.5.1->pandas_profiling==2.8.0) (5.5.0)\n",
            "Requirement already satisfied: traitlets>=4.3.1 in /usr/local/lib/python3.6/dist-packages (from ipywidgets>=7.5.1->pandas_profiling==2.8.0) (4.3.3)\n",
            "Requirement already satisfied: ipykernel>=4.5.1 in /usr/local/lib/python3.6/dist-packages (from ipywidgets>=7.5.1->pandas_profiling==2.8.0) (4.10.1)\n",
            "Requirement already satisfied: nbformat>=4.2.0 in /usr/local/lib/python3.6/dist-packages (from ipywidgets>=7.5.1->pandas_profiling==2.8.0) (5.0.7)\n",
            "Requirement already satisfied: idna<3,>=2.5 in /usr/local/lib/python3.6/dist-packages (from requests>=2.23.0->pandas_profiling==2.8.0) (2.9)\n",
            "Requirement already satisfied: chardet<4,>=3.0.2 in /usr/local/lib/python3.6/dist-packages (from requests>=2.23.0->pandas_profiling==2.8.0) (3.0.4)\n",
            "Requirement already satisfied: certifi>=2017.4.17 in /usr/local/lib/python3.6/dist-packages (from requests>=2.23.0->pandas_profiling==2.8.0) (2020.4.5.2)\n",
            "Requirement already satisfied: urllib3!=1.25.0,!=1.25.1,<1.26,>=1.21.1 in /usr/local/lib/python3.6/dist-packages (from requests>=2.23.0->pandas_profiling==2.8.0) (1.24.3)\n",
            "Requirement already satisfied: decorator>=4.3.0 in /usr/local/lib/python3.6/dist-packages (from networkx>=2.4->visions[type_image_path]==0.4.4->pandas_profiling==2.8.0) (4.4.2)\n",
            "Requirement already satisfied: six in /usr/local/lib/python3.6/dist-packages (from imagehash; extra == \"type_image_path\"->visions[type_image_path]==0.4.4->pandas_profiling==2.8.0) (1.12.0)\n",
            "Requirement already satisfied: PyWavelets in /usr/local/lib/python3.6/dist-packages (from imagehash; extra == \"type_image_path\"->visions[type_image_path]==0.4.4->pandas_profiling==2.8.0) (1.1.1)\n",
            "Requirement already satisfied: llvmlite<0.32.0,>=0.31.0dev0 in /usr/local/lib/python3.6/dist-packages (from numba>=0.38.1->phik>=0.9.10->pandas_profiling==2.8.0) (0.31.0)\n",
            "Requirement already satisfied: setuptools in /usr/local/lib/python3.6/dist-packages (from numba>=0.38.1->phik>=0.9.10->pandas_profiling==2.8.0) (47.3.1)\n",
            "Requirement already satisfied: notebook>=4.4.1 in /usr/local/lib/python3.6/dist-packages (from widgetsnbextension~=3.5.0->ipywidgets>=7.5.1->pandas_profiling==2.8.0) (5.2.2)\n",
            "Requirement already satisfied: pygments in /usr/local/lib/python3.6/dist-packages (from ipython>=4.0.0; python_version >= \"3.3\"->ipywidgets>=7.5.1->pandas_profiling==2.8.0) (2.1.3)\n",
            "Requirement already satisfied: simplegeneric>0.8 in /usr/local/lib/python3.6/dist-packages (from ipython>=4.0.0; python_version >= \"3.3\"->ipywidgets>=7.5.1->pandas_profiling==2.8.0) (0.8.1)\n",
            "Requirement already satisfied: pexpect; sys_platform != \"win32\" in /usr/local/lib/python3.6/dist-packages (from ipython>=4.0.0; python_version >= \"3.3\"->ipywidgets>=7.5.1->pandas_profiling==2.8.0) (4.8.0)\n",
            "Requirement already satisfied: prompt-toolkit<2.0.0,>=1.0.4 in /usr/local/lib/python3.6/dist-packages (from ipython>=4.0.0; python_version >= \"3.3\"->ipywidgets>=7.5.1->pandas_profiling==2.8.0) (1.0.18)\n",
            "Requirement already satisfied: pickleshare in /usr/local/lib/python3.6/dist-packages (from ipython>=4.0.0; python_version >= \"3.3\"->ipywidgets>=7.5.1->pandas_profiling==2.8.0) (0.7.5)\n",
            "Requirement already satisfied: ipython-genutils in /usr/local/lib/python3.6/dist-packages (from traitlets>=4.3.1->ipywidgets>=7.5.1->pandas_profiling==2.8.0) (0.2.0)\n",
            "Requirement already satisfied: tornado>=4.0 in /usr/local/lib/python3.6/dist-packages (from ipykernel>=4.5.1->ipywidgets>=7.5.1->pandas_profiling==2.8.0) (4.5.3)\n",
            "Requirement already satisfied: jupyter-client in /usr/local/lib/python3.6/dist-packages (from ipykernel>=4.5.1->ipywidgets>=7.5.1->pandas_profiling==2.8.0) (5.3.4)\n",
            "Requirement already satisfied: jupyter-core in /usr/local/lib/python3.6/dist-packages (from nbformat>=4.2.0->ipywidgets>=7.5.1->pandas_profiling==2.8.0) (4.6.3)\n",
            "Requirement already satisfied: jsonschema!=2.5.0,>=2.4 in /usr/local/lib/python3.6/dist-packages (from nbformat>=4.2.0->ipywidgets>=7.5.1->pandas_profiling==2.8.0) (2.6.0)\n",
            "Requirement already satisfied: nbconvert in /usr/local/lib/python3.6/dist-packages (from notebook>=4.4.1->widgetsnbextension~=3.5.0->ipywidgets>=7.5.1->pandas_profiling==2.8.0) (5.6.1)\n",
            "Requirement already satisfied: terminado>=0.3.3; sys_platform != \"win32\" in /usr/local/lib/python3.6/dist-packages (from notebook>=4.4.1->widgetsnbextension~=3.5.0->ipywidgets>=7.5.1->pandas_profiling==2.8.0) (0.8.3)\n",
            "Requirement already satisfied: ptyprocess>=0.5 in /usr/local/lib/python3.6/dist-packages (from pexpect; sys_platform != \"win32\"->ipython>=4.0.0; python_version >= \"3.3\"->ipywidgets>=7.5.1->pandas_profiling==2.8.0) (0.6.0)\n",
            "Requirement already satisfied: wcwidth in /usr/local/lib/python3.6/dist-packages (from prompt-toolkit<2.0.0,>=1.0.4->ipython>=4.0.0; python_version >= \"3.3\"->ipywidgets>=7.5.1->pandas_profiling==2.8.0) (0.2.4)\n",
            "Requirement already satisfied: pyzmq>=13 in /usr/local/lib/python3.6/dist-packages (from jupyter-client->ipykernel>=4.5.1->ipywidgets>=7.5.1->pandas_profiling==2.8.0) (19.0.1)\n",
            "Requirement already satisfied: entrypoints>=0.2.2 in /usr/local/lib/python3.6/dist-packages (from nbconvert->notebook>=4.4.1->widgetsnbextension~=3.5.0->ipywidgets>=7.5.1->pandas_profiling==2.8.0) (0.3)\n",
            "Requirement already satisfied: bleach in /usr/local/lib/python3.6/dist-packages (from nbconvert->notebook>=4.4.1->widgetsnbextension~=3.5.0->ipywidgets>=7.5.1->pandas_profiling==2.8.0) (3.1.5)\n",
            "Requirement already satisfied: testpath in /usr/local/lib/python3.6/dist-packages (from nbconvert->notebook>=4.4.1->widgetsnbextension~=3.5.0->ipywidgets>=7.5.1->pandas_profiling==2.8.0) (0.4.4)\n",
            "Requirement already satisfied: defusedxml in /usr/local/lib/python3.6/dist-packages (from nbconvert->notebook>=4.4.1->widgetsnbextension~=3.5.0->ipywidgets>=7.5.1->pandas_profiling==2.8.0) (0.6.0)\n",
            "Requirement already satisfied: pandocfilters>=1.4.1 in /usr/local/lib/python3.6/dist-packages (from nbconvert->notebook>=4.4.1->widgetsnbextension~=3.5.0->ipywidgets>=7.5.1->pandas_profiling==2.8.0) (1.4.2)\n",
            "Requirement already satisfied: mistune<2,>=0.8.1 in /usr/local/lib/python3.6/dist-packages (from nbconvert->notebook>=4.4.1->widgetsnbextension~=3.5.0->ipywidgets>=7.5.1->pandas_profiling==2.8.0) (0.8.4)\n",
            "Requirement already satisfied: webencodings in /usr/local/lib/python3.6/dist-packages (from bleach->nbconvert->notebook>=4.4.1->widgetsnbextension~=3.5.0->ipywidgets>=7.5.1->pandas_profiling==2.8.0) (0.5.1)\n",
            "Requirement already satisfied: packaging in /usr/local/lib/python3.6/dist-packages (from bleach->nbconvert->notebook>=4.4.1->widgetsnbextension~=3.5.0->ipywidgets>=7.5.1->pandas_profiling==2.8.0) (20.4)\n"
          ],
          "name": "stdout"
        },
        {
          "output_type": "stream",
          "text": [
            "/usr/local/lib/python3.6/dist-packages/statsmodels/tools/_testing.py:19: FutureWarning: pandas.util.testing is deprecated. Use the functions in the public API at pandas.testing instead.\n",
            "  import pandas.util.testing as tm\n"
          ],
          "name": "stderr"
        },
        {
          "output_type": "display_data",
          "data": {
            "text/html": [
              "\n",
              "     <input type=\"file\" id=\"files-70c02f74-9cbb-4f2a-a061-aaee30c3dd41\" name=\"files[]\" multiple disabled\n",
              "        style=\"border:none\" />\n",
              "     <output id=\"result-70c02f74-9cbb-4f2a-a061-aaee30c3dd41\">\n",
              "      Upload widget is only available when the cell has been executed in the\n",
              "      current browser session. Please rerun this cell to enable.\n",
              "      </output>\n",
              "      <script src=\"/nbextensions/google.colab/files.js\"></script> "
            ],
            "text/plain": [
              "<IPython.core.display.HTML object>"
            ]
          },
          "metadata": {
            "tags": []
          }
        },
        {
          "output_type": "stream",
          "text": [
            "Saving assumed_PHA.csv to assumed_PHA.csv\n"
          ],
          "name": "stdout"
        }
      ]
    },
    {
      "cell_type": "code",
      "metadata": {
        "id": "l5iR1EDpbWgE",
        "colab_type": "code",
        "colab": {
          "base_uri": "https://localhost:8080/",
          "height": 195
        },
        "outputId": "6783c4c7-9d9d-47fa-ef1d-6982ef5721c3"
      },
      "source": [
        "df = read_csv(BytesIO(uploaded['assumed_PHA.csv']))\n",
        "df.fillna(df.median(axis=0), # Fills median values in row\n",
        "          inplace=True,)\n",
        "df.head()"
      ],
      "execution_count": null,
      "outputs": [
        {
          "output_type": "execute_result",
          "data": {
            "text/html": [
              "<div>\n",
              "<style scoped>\n",
              "    .dataframe tbody tr th:only-of-type {\n",
              "        vertical-align: middle;\n",
              "    }\n",
              "\n",
              "    .dataframe tbody tr th {\n",
              "        vertical-align: top;\n",
              "    }\n",
              "\n",
              "    .dataframe thead th {\n",
              "        text-align: right;\n",
              "    }\n",
              "</style>\n",
              "<table border=\"1\" class=\"dataframe\">\n",
              "  <thead>\n",
              "    <tr style=\"text-align: right;\">\n",
              "      <th></th>\n",
              "      <th>X1</th>\n",
              "      <th>Y1</th>\n",
              "      <th>X2</th>\n",
              "      <th>Y2</th>\n",
              "      <th>MID_POINT_X</th>\n",
              "      <th>MID_POINT_Y</th>\n",
              "      <th>Area</th>\n",
              "      <th>long</th>\n",
              "      <th>lat</th>\n",
              "    </tr>\n",
              "  </thead>\n",
              "  <tbody>\n",
              "    <tr>\n",
              "      <th>0</th>\n",
              "      <td>297</td>\n",
              "      <td>395</td>\n",
              "      <td>343</td>\n",
              "      <td>519</td>\n",
              "      <td>320.0</td>\n",
              "      <td>457.0</td>\n",
              "      <td>5704</td>\n",
              "      <td>24.920860</td>\n",
              "      <td>67.143323</td>\n",
              "    </tr>\n",
              "    <tr>\n",
              "      <th>1</th>\n",
              "      <td>839</td>\n",
              "      <td>315</td>\n",
              "      <td>870</td>\n",
              "      <td>404</td>\n",
              "      <td>854.5</td>\n",
              "      <td>359.5</td>\n",
              "      <td>2759</td>\n",
              "      <td>24.920899</td>\n",
              "      <td>67.143506</td>\n",
              "    </tr>\n",
              "    <tr>\n",
              "      <th>2</th>\n",
              "      <td>1223</td>\n",
              "      <td>284</td>\n",
              "      <td>1256</td>\n",
              "      <td>361</td>\n",
              "      <td>1239.5</td>\n",
              "      <td>322.5</td>\n",
              "      <td>2541</td>\n",
              "      <td>24.920841</td>\n",
              "      <td>67.143605</td>\n",
              "    </tr>\n",
              "    <tr>\n",
              "      <th>3</th>\n",
              "      <td>871</td>\n",
              "      <td>270</td>\n",
              "      <td>896</td>\n",
              "      <td>334</td>\n",
              "      <td>883.5</td>\n",
              "      <td>302.0</td>\n",
              "      <td>1600</td>\n",
              "      <td>24.920933</td>\n",
              "      <td>67.143584</td>\n",
              "    </tr>\n",
              "    <tr>\n",
              "      <th>4</th>\n",
              "      <td>421</td>\n",
              "      <td>294</td>\n",
              "      <td>450</td>\n",
              "      <td>367</td>\n",
              "      <td>435.5</td>\n",
              "      <td>330.5</td>\n",
              "      <td>2117</td>\n",
              "      <td>24.921013</td>\n",
              "      <td>67.143442</td>\n",
              "    </tr>\n",
              "  </tbody>\n",
              "</table>\n",
              "</div>"
            ],
            "text/plain": [
              "     X1   Y1    X2   Y2  MID_POINT_X  MID_POINT_Y  Area       long        lat\n",
              "0   297  395   343  519        320.0        457.0  5704  24.920860  67.143323\n",
              "1   839  315   870  404        854.5        359.5  2759  24.920899  67.143506\n",
              "2  1223  284  1256  361       1239.5        322.5  2541  24.920841  67.143605\n",
              "3   871  270   896  334        883.5        302.0  1600  24.920933  67.143584\n",
              "4   421  294   450  367        435.5        330.5  2117  24.921013  67.143442"
            ]
          },
          "metadata": {
            "tags": []
          },
          "execution_count": 2
        }
      ]
    },
    {
      "cell_type": "code",
      "metadata": {
        "id": "tXpYXnmXTUNN",
        "colab_type": "code",
        "colab": {
          "base_uri": "https://localhost:8080/",
          "height": 67
        },
        "outputId": "6e803ccd-b554-4358-c9f3-c1f46dcee76a"
      },
      "source": [
        "print(df.columns)"
      ],
      "execution_count": null,
      "outputs": [
        {
          "output_type": "stream",
          "text": [
            "Index(['X1', 'Y1', 'X2', 'Y2', 'MID_POINT_X', 'MID_POINT_Y', 'Area', 'long',\n",
            "       'lat'],\n",
            "      dtype='object')\n"
          ],
          "name": "stdout"
        }
      ]
    },
    {
      "cell_type": "code",
      "metadata": {
        "id": "A0fi5McxTWGc",
        "colab_type": "code",
        "colab": {
          "base_uri": "https://localhost:8080/",
          "height": 195
        },
        "outputId": "2b4dee26-ea1a-401f-d49d-4dec5a1c444d"
      },
      "source": [
        "df.rename(columns={'MID_POINT_X': 'MPX',\n",
        "                   'MID_POINT_Y': 'MPY',},\n",
        "          inplace=True,)\n",
        "df.head()"
      ],
      "execution_count": null,
      "outputs": [
        {
          "output_type": "execute_result",
          "data": {
            "text/html": [
              "<div>\n",
              "<style scoped>\n",
              "    .dataframe tbody tr th:only-of-type {\n",
              "        vertical-align: middle;\n",
              "    }\n",
              "\n",
              "    .dataframe tbody tr th {\n",
              "        vertical-align: top;\n",
              "    }\n",
              "\n",
              "    .dataframe thead th {\n",
              "        text-align: right;\n",
              "    }\n",
              "</style>\n",
              "<table border=\"1\" class=\"dataframe\">\n",
              "  <thead>\n",
              "    <tr style=\"text-align: right;\">\n",
              "      <th></th>\n",
              "      <th>X1</th>\n",
              "      <th>Y1</th>\n",
              "      <th>X2</th>\n",
              "      <th>Y2</th>\n",
              "      <th>MPX</th>\n",
              "      <th>MPY</th>\n",
              "      <th>Area</th>\n",
              "      <th>long</th>\n",
              "      <th>lat</th>\n",
              "    </tr>\n",
              "  </thead>\n",
              "  <tbody>\n",
              "    <tr>\n",
              "      <th>0</th>\n",
              "      <td>297</td>\n",
              "      <td>395</td>\n",
              "      <td>343</td>\n",
              "      <td>519</td>\n",
              "      <td>320.0</td>\n",
              "      <td>457.0</td>\n",
              "      <td>5704</td>\n",
              "      <td>24.920860</td>\n",
              "      <td>67.143323</td>\n",
              "    </tr>\n",
              "    <tr>\n",
              "      <th>1</th>\n",
              "      <td>839</td>\n",
              "      <td>315</td>\n",
              "      <td>870</td>\n",
              "      <td>404</td>\n",
              "      <td>854.5</td>\n",
              "      <td>359.5</td>\n",
              "      <td>2759</td>\n",
              "      <td>24.920899</td>\n",
              "      <td>67.143506</td>\n",
              "    </tr>\n",
              "    <tr>\n",
              "      <th>2</th>\n",
              "      <td>1223</td>\n",
              "      <td>284</td>\n",
              "      <td>1256</td>\n",
              "      <td>361</td>\n",
              "      <td>1239.5</td>\n",
              "      <td>322.5</td>\n",
              "      <td>2541</td>\n",
              "      <td>24.920841</td>\n",
              "      <td>67.143605</td>\n",
              "    </tr>\n",
              "    <tr>\n",
              "      <th>3</th>\n",
              "      <td>871</td>\n",
              "      <td>270</td>\n",
              "      <td>896</td>\n",
              "      <td>334</td>\n",
              "      <td>883.5</td>\n",
              "      <td>302.0</td>\n",
              "      <td>1600</td>\n",
              "      <td>24.920933</td>\n",
              "      <td>67.143584</td>\n",
              "    </tr>\n",
              "    <tr>\n",
              "      <th>4</th>\n",
              "      <td>421</td>\n",
              "      <td>294</td>\n",
              "      <td>450</td>\n",
              "      <td>367</td>\n",
              "      <td>435.5</td>\n",
              "      <td>330.5</td>\n",
              "      <td>2117</td>\n",
              "      <td>24.921013</td>\n",
              "      <td>67.143442</td>\n",
              "    </tr>\n",
              "  </tbody>\n",
              "</table>\n",
              "</div>"
            ],
            "text/plain": [
              "     X1   Y1    X2   Y2     MPX    MPY  Area       long        lat\n",
              "0   297  395   343  519   320.0  457.0  5704  24.920860  67.143323\n",
              "1   839  315   870  404   854.5  359.5  2759  24.920899  67.143506\n",
              "2  1223  284  1256  361  1239.5  322.5  2541  24.920841  67.143605\n",
              "3   871  270   896  334   883.5  302.0  1600  24.920933  67.143584\n",
              "4   421  294   450  367   435.5  330.5  2117  24.921013  67.143442"
            ]
          },
          "metadata": {
            "tags": []
          },
          "execution_count": 4
        }
      ]
    },
    {
      "cell_type": "code",
      "metadata": {
        "id": "QhXfwoLAg_sy",
        "colab_type": "code",
        "colab": {
          "base_uri": "https://localhost:8080/",
          "height": 195
        },
        "outputId": "e8d67ea4-4c69-46ff-a09f-0fe49e59cd6e"
      },
      "source": [
        "df.tail()"
      ],
      "execution_count": null,
      "outputs": [
        {
          "output_type": "execute_result",
          "data": {
            "text/html": [
              "<div>\n",
              "<style scoped>\n",
              "    .dataframe tbody tr th:only-of-type {\n",
              "        vertical-align: middle;\n",
              "    }\n",
              "\n",
              "    .dataframe tbody tr th {\n",
              "        vertical-align: top;\n",
              "    }\n",
              "\n",
              "    .dataframe thead th {\n",
              "        text-align: right;\n",
              "    }\n",
              "</style>\n",
              "<table border=\"1\" class=\"dataframe\">\n",
              "  <thead>\n",
              "    <tr style=\"text-align: right;\">\n",
              "      <th></th>\n",
              "      <th>X1</th>\n",
              "      <th>Y1</th>\n",
              "      <th>X2</th>\n",
              "      <th>Y2</th>\n",
              "      <th>MPX</th>\n",
              "      <th>MPY</th>\n",
              "      <th>Area</th>\n",
              "      <th>long</th>\n",
              "      <th>lat</th>\n",
              "    </tr>\n",
              "  </thead>\n",
              "  <tbody>\n",
              "    <tr>\n",
              "      <th>13</th>\n",
              "      <td>1097</td>\n",
              "      <td>236</td>\n",
              "      <td>1117</td>\n",
              "      <td>274</td>\n",
              "      <td>1107.0</td>\n",
              "      <td>255.0</td>\n",
              "      <td>760</td>\n",
              "      <td>24.921000</td>\n",
              "      <td>67.143724</td>\n",
              "    </tr>\n",
              "    <tr>\n",
              "      <th>14</th>\n",
              "      <td>870</td>\n",
              "      <td>274</td>\n",
              "      <td>897</td>\n",
              "      <td>343</td>\n",
              "      <td>883.5</td>\n",
              "      <td>308.5</td>\n",
              "      <td>1863</td>\n",
              "      <td>24.920927</td>\n",
              "      <td>67.143555</td>\n",
              "    </tr>\n",
              "    <tr>\n",
              "      <th>15</th>\n",
              "      <td>215</td>\n",
              "      <td>409</td>\n",
              "      <td>264</td>\n",
              "      <td>535</td>\n",
              "      <td>239.5</td>\n",
              "      <td>472.0</td>\n",
              "      <td>6174</td>\n",
              "      <td>24.920873</td>\n",
              "      <td>67.143292</td>\n",
              "    </tr>\n",
              "    <tr>\n",
              "      <th>16</th>\n",
              "      <td>270</td>\n",
              "      <td>548</td>\n",
              "      <td>342</td>\n",
              "      <td>689</td>\n",
              "      <td>306.0</td>\n",
              "      <td>618.5</td>\n",
              "      <td>10152</td>\n",
              "      <td>24.920829</td>\n",
              "      <td>67.143271</td>\n",
              "    </tr>\n",
              "    <tr>\n",
              "      <th>17</th>\n",
              "      <td>358</td>\n",
              "      <td>536</td>\n",
              "      <td>429</td>\n",
              "      <td>682</td>\n",
              "      <td>393.5</td>\n",
              "      <td>609.0</td>\n",
              "      <td>10366</td>\n",
              "      <td>24.920827</td>\n",
              "      <td>67.143284</td>\n",
              "    </tr>\n",
              "  </tbody>\n",
              "</table>\n",
              "</div>"
            ],
            "text/plain": [
              "      X1   Y1    X2   Y2     MPX    MPY   Area       long        lat\n",
              "13  1097  236  1117  274  1107.0  255.0    760  24.921000  67.143724\n",
              "14   870  274   897  343   883.5  308.5   1863  24.920927  67.143555\n",
              "15   215  409   264  535   239.5  472.0   6174  24.920873  67.143292\n",
              "16   270  548   342  689   306.0  618.5  10152  24.920829  67.143271\n",
              "17   358  536   429  682   393.5  609.0  10366  24.920827  67.143284"
            ]
          },
          "metadata": {
            "tags": []
          },
          "execution_count": 5
        }
      ]
    },
    {
      "cell_type": "code",
      "metadata": {
        "id": "5KLaZUzxDHGZ",
        "colab_type": "code",
        "colab": {
          "base_uri": "https://localhost:8080/",
          "height": 343
        },
        "outputId": "eb15575f-60b7-4202-c4ae-a022fa2a9dc2"
      },
      "source": [
        "df1, df2 = df.head(), df.tail()\n",
        "conc_data_row = concat([df1,\n",
        "                        df2,],\n",
        "                        axis=0, # Adds dataframes in row\n",
        "                        ignore_index=False,)\n",
        "conc_data_row"
      ],
      "execution_count": null,
      "outputs": [
        {
          "output_type": "execute_result",
          "data": {
            "text/html": [
              "<div>\n",
              "<style scoped>\n",
              "    .dataframe tbody tr th:only-of-type {\n",
              "        vertical-align: middle;\n",
              "    }\n",
              "\n",
              "    .dataframe tbody tr th {\n",
              "        vertical-align: top;\n",
              "    }\n",
              "\n",
              "    .dataframe thead th {\n",
              "        text-align: right;\n",
              "    }\n",
              "</style>\n",
              "<table border=\"1\" class=\"dataframe\">\n",
              "  <thead>\n",
              "    <tr style=\"text-align: right;\">\n",
              "      <th></th>\n",
              "      <th>X1</th>\n",
              "      <th>Y1</th>\n",
              "      <th>X2</th>\n",
              "      <th>Y2</th>\n",
              "      <th>MPX</th>\n",
              "      <th>MPY</th>\n",
              "      <th>Area</th>\n",
              "      <th>long</th>\n",
              "      <th>lat</th>\n",
              "    </tr>\n",
              "  </thead>\n",
              "  <tbody>\n",
              "    <tr>\n",
              "      <th>0</th>\n",
              "      <td>297</td>\n",
              "      <td>395</td>\n",
              "      <td>343</td>\n",
              "      <td>519</td>\n",
              "      <td>320.0</td>\n",
              "      <td>457.0</td>\n",
              "      <td>5704</td>\n",
              "      <td>24.920860</td>\n",
              "      <td>67.143323</td>\n",
              "    </tr>\n",
              "    <tr>\n",
              "      <th>1</th>\n",
              "      <td>839</td>\n",
              "      <td>315</td>\n",
              "      <td>870</td>\n",
              "      <td>404</td>\n",
              "      <td>854.5</td>\n",
              "      <td>359.5</td>\n",
              "      <td>2759</td>\n",
              "      <td>24.920899</td>\n",
              "      <td>67.143506</td>\n",
              "    </tr>\n",
              "    <tr>\n",
              "      <th>2</th>\n",
              "      <td>1223</td>\n",
              "      <td>284</td>\n",
              "      <td>1256</td>\n",
              "      <td>361</td>\n",
              "      <td>1239.5</td>\n",
              "      <td>322.5</td>\n",
              "      <td>2541</td>\n",
              "      <td>24.920841</td>\n",
              "      <td>67.143605</td>\n",
              "    </tr>\n",
              "    <tr>\n",
              "      <th>3</th>\n",
              "      <td>871</td>\n",
              "      <td>270</td>\n",
              "      <td>896</td>\n",
              "      <td>334</td>\n",
              "      <td>883.5</td>\n",
              "      <td>302.0</td>\n",
              "      <td>1600</td>\n",
              "      <td>24.920933</td>\n",
              "      <td>67.143584</td>\n",
              "    </tr>\n",
              "    <tr>\n",
              "      <th>4</th>\n",
              "      <td>421</td>\n",
              "      <td>294</td>\n",
              "      <td>450</td>\n",
              "      <td>367</td>\n",
              "      <td>435.5</td>\n",
              "      <td>330.5</td>\n",
              "      <td>2117</td>\n",
              "      <td>24.921013</td>\n",
              "      <td>67.143442</td>\n",
              "    </tr>\n",
              "    <tr>\n",
              "      <th>13</th>\n",
              "      <td>1097</td>\n",
              "      <td>236</td>\n",
              "      <td>1117</td>\n",
              "      <td>274</td>\n",
              "      <td>1107.0</td>\n",
              "      <td>255.0</td>\n",
              "      <td>760</td>\n",
              "      <td>24.921000</td>\n",
              "      <td>67.143724</td>\n",
              "    </tr>\n",
              "    <tr>\n",
              "      <th>14</th>\n",
              "      <td>870</td>\n",
              "      <td>274</td>\n",
              "      <td>897</td>\n",
              "      <td>343</td>\n",
              "      <td>883.5</td>\n",
              "      <td>308.5</td>\n",
              "      <td>1863</td>\n",
              "      <td>24.920927</td>\n",
              "      <td>67.143555</td>\n",
              "    </tr>\n",
              "    <tr>\n",
              "      <th>15</th>\n",
              "      <td>215</td>\n",
              "      <td>409</td>\n",
              "      <td>264</td>\n",
              "      <td>535</td>\n",
              "      <td>239.5</td>\n",
              "      <td>472.0</td>\n",
              "      <td>6174</td>\n",
              "      <td>24.920873</td>\n",
              "      <td>67.143292</td>\n",
              "    </tr>\n",
              "    <tr>\n",
              "      <th>16</th>\n",
              "      <td>270</td>\n",
              "      <td>548</td>\n",
              "      <td>342</td>\n",
              "      <td>689</td>\n",
              "      <td>306.0</td>\n",
              "      <td>618.5</td>\n",
              "      <td>10152</td>\n",
              "      <td>24.920829</td>\n",
              "      <td>67.143271</td>\n",
              "    </tr>\n",
              "    <tr>\n",
              "      <th>17</th>\n",
              "      <td>358</td>\n",
              "      <td>536</td>\n",
              "      <td>429</td>\n",
              "      <td>682</td>\n",
              "      <td>393.5</td>\n",
              "      <td>609.0</td>\n",
              "      <td>10366</td>\n",
              "      <td>24.920827</td>\n",
              "      <td>67.143284</td>\n",
              "    </tr>\n",
              "  </tbody>\n",
              "</table>\n",
              "</div>"
            ],
            "text/plain": [
              "      X1   Y1    X2   Y2     MPX    MPY   Area       long        lat\n",
              "0    297  395   343  519   320.0  457.0   5704  24.920860  67.143323\n",
              "1    839  315   870  404   854.5  359.5   2759  24.920899  67.143506\n",
              "2   1223  284  1256  361  1239.5  322.5   2541  24.920841  67.143605\n",
              "3    871  270   896  334   883.5  302.0   1600  24.920933  67.143584\n",
              "4    421  294   450  367   435.5  330.5   2117  24.921013  67.143442\n",
              "13  1097  236  1117  274  1107.0  255.0    760  24.921000  67.143724\n",
              "14   870  274   897  343   883.5  308.5   1863  24.920927  67.143555\n",
              "15   215  409   264  535   239.5  472.0   6174  24.920873  67.143292\n",
              "16   270  548   342  689   306.0  618.5  10152  24.920829  67.143271\n",
              "17   358  536   429  682   393.5  609.0  10366  24.920827  67.143284"
            ]
          },
          "metadata": {
            "tags": []
          },
          "execution_count": 6
        }
      ]
    },
    {
      "cell_type": "code",
      "metadata": {
        "id": "73fI15IFDbkk",
        "colab_type": "code",
        "colab": {
          "base_uri": "https://localhost:8080/",
          "height": 34
        },
        "outputId": "e9992a67-bef5-4d6f-8841-e9fadce09738"
      },
      "source": [
        "del conc_data_row\n",
        "collect()"
      ],
      "execution_count": null,
      "outputs": [
        {
          "output_type": "execute_result",
          "data": {
            "text/plain": [
              "44"
            ]
          },
          "metadata": {
            "tags": []
          },
          "execution_count": 7
        }
      ]
    },
    {
      "cell_type": "code",
      "metadata": {
        "id": "dmWTOTXRfffA",
        "colab_type": "code",
        "colab": {
          "base_uri": "https://localhost:8080/",
          "height": 34
        },
        "outputId": "df1910fe-6bb0-4093-eb97-4da658a85f26"
      },
      "source": [
        "del df1\n",
        "collect()"
      ],
      "execution_count": null,
      "outputs": [
        {
          "output_type": "execute_result",
          "data": {
            "text/plain": [
              "0"
            ]
          },
          "metadata": {
            "tags": []
          },
          "execution_count": 8
        }
      ]
    },
    {
      "cell_type": "code",
      "metadata": {
        "id": "pO2EkfhQfkLP",
        "colab_type": "code",
        "colab": {
          "base_uri": "https://localhost:8080/",
          "height": 34
        },
        "outputId": "3d0d75e4-e5c9-44cb-bde5-46567d365ddd"
      },
      "source": [
        "del df2\n",
        "collect()"
      ],
      "execution_count": null,
      "outputs": [
        {
          "output_type": "execute_result",
          "data": {
            "text/plain": [
              "0"
            ]
          },
          "metadata": {
            "tags": []
          },
          "execution_count": 9
        }
      ]
    },
    {
      "cell_type": "code",
      "metadata": {
        "id": "UdLBEM9eXlPL",
        "colab_type": "code",
        "colab": {}
      },
      "source": [
        "assert df['X1'].notnull().all()\n",
        "assert df['Y1'].notnull().all()\n",
        "assert df['X2'].notnull().all()\n",
        "assert df['Y2'].notnull().all()\n",
        "assert df['MPX'].notnull().all()\n",
        "assert df['MPX'].notnull().all()\n",
        "assert df['Area'].notnull().all()\n",
        "assert df['long'].notnull().all()\n",
        "assert df['lat'].notnull().all()"
      ],
      "execution_count": null,
      "outputs": []
    },
    {
      "cell_type": "code",
      "metadata": {
        "id": "UlfpdC5Kwn5L",
        "colab_type": "code",
        "colab": {
          "base_uri": "https://localhost:8080/",
          "height": 202
        },
        "outputId": "45f76f47-e476-4f30-b02a-838180fbbb59"
      },
      "source": [
        "print('Duplicated entries:',\n",
        "      df.duplicated().sum())\n",
        "df[df.duplicated()].isna().median()"
      ],
      "execution_count": null,
      "outputs": [
        {
          "output_type": "stream",
          "text": [
            "Duplicated entries: 0\n"
          ],
          "name": "stdout"
        },
        {
          "output_type": "execute_result",
          "data": {
            "text/plain": [
              "X1     NaN\n",
              "Y1     NaN\n",
              "X2     NaN\n",
              "Y2     NaN\n",
              "MPX    NaN\n",
              "MPY    NaN\n",
              "Area   NaN\n",
              "long   NaN\n",
              "lat    NaN\n",
              "dtype: float64"
            ]
          },
          "metadata": {
            "tags": []
          },
          "execution_count": 11
        }
      ]
    },
    {
      "cell_type": "code",
      "metadata": {
        "id": "mHXC95jwSc-X",
        "colab_type": "code",
        "colab": {
          "base_uri": "https://localhost:8080/",
          "height": 34
        },
        "outputId": "5e1bb1ae-e2b5-4515-e74d-5cac213555d8"
      },
      "source": [
        "df.drop_duplicates(subset=df.columns.values[:-1],\n",
        "                   keep='first',\n",
        "                   inplace=True,)\n",
        "print(df.shape, \"Duplicated rows have been removed.\")"
      ],
      "execution_count": null,
      "outputs": [
        {
          "output_type": "stream",
          "text": [
            "(18, 9) Duplicated rows have been removed.\n"
          ],
          "name": "stdout"
        }
      ]
    },
    {
      "cell_type": "code",
      "metadata": {
        "id": "EFS3tnZ7yRXK",
        "colab_type": "code",
        "colab": {
          "base_uri": "https://localhost:8080/",
          "height": 286
        },
        "outputId": "ed99d22f-54e7-4343-bc99-1872d0144f4c"
      },
      "source": [
        "df.info(memory_usage='deep')"
      ],
      "execution_count": null,
      "outputs": [
        {
          "output_type": "stream",
          "text": [
            "<class 'pandas.core.frame.DataFrame'>\n",
            "Int64Index: 18 entries, 0 to 17\n",
            "Data columns (total 9 columns):\n",
            " #   Column  Non-Null Count  Dtype  \n",
            "---  ------  --------------  -----  \n",
            " 0   X1      18 non-null     int64  \n",
            " 1   Y1      18 non-null     int64  \n",
            " 2   X2      18 non-null     int64  \n",
            " 3   Y2      18 non-null     int64  \n",
            " 4   MPX     18 non-null     float64\n",
            " 5   MPY     18 non-null     float64\n",
            " 6   Area    18 non-null     int64  \n",
            " 7   long    18 non-null     float64\n",
            " 8   lat     18 non-null     float64\n",
            "dtypes: float64(4), int64(5)\n",
            "memory usage: 1.4 KB\n"
          ],
          "name": "stdout"
        }
      ]
    },
    {
      "cell_type": "code",
      "metadata": {
        "id": "BBHJCvAZgwiJ",
        "colab_type": "code",
        "colab": {}
      },
      "source": [
        "profile = ProfileReport(df,\n",
        "                        title='Midpoint-Coo Report',\n",
        "                        explorative=True,\n",
        "                        progress_bar=True,)\n",
        "profile.to_notebook_iframe()"
      ],
      "execution_count": null,
      "outputs": []
    },
    {
      "cell_type": "code",
      "metadata": {
        "id": "42Vm5A1qgjm4",
        "colab_type": "code",
        "colab": {
          "base_uri": "https://localhost:8080/",
          "height": 34
        },
        "outputId": "59af4a29-9deb-44cd-bf85-509a945862eb"
      },
      "source": [
        "del profile\n",
        "collect()"
      ],
      "execution_count": null,
      "outputs": [
        {
          "output_type": "execute_result",
          "data": {
            "text/plain": [
              "261851"
            ]
          },
          "metadata": {
            "tags": []
          },
          "execution_count": 17
        }
      ]
    },
    {
      "cell_type": "code",
      "metadata": {
        "id": "J2XlDQkDpCf2",
        "colab_type": "code",
        "colab": {
          "base_uri": "https://localhost:8080/",
          "height": 302
        },
        "outputId": "83ad0daa-1f5c-48f4-8031-94cb418309fc"
      },
      "source": [
        "cols = ['MPX',\n",
        "        'MPY',\n",
        "        'lat',]\n",
        "fig, axs = plt.subplots(1,\n",
        "                        3,\n",
        "                        figsize=(20, 5),\n",
        "                        facecolor='w',\n",
        "                        edgecolor='k',)\n",
        "axs = axs.ravel()\n",
        "\n",
        "for i, column in enumerate(cols):\n",
        "    isolation_forest = IsolationForest(contamination='auto')\n",
        "    isolation_forest.fit(df[column].values.reshape(-1,1))\n",
        "\n",
        "    xx = linspace(df[column].min(),\n",
        "                  df[column].max(),\n",
        "                  len(df)).reshape(-1,1)\n",
        "    anomaly_score = isolation_forest.decision_function(xx)\n",
        "    outlier = isolation_forest.predict(xx)\n",
        "    \n",
        "    axs[i].plot(xx,\n",
        "                anomaly_score,\n",
        "                label='anomaly score',)\n",
        "    axs[i].fill_between(xx.T[0],\n",
        "                        min(anomaly_score),\n",
        "                        max(anomaly_score), \n",
        "                        where=outlier==-1,\n",
        "                        color='r', \n",
        "                        alpha=.4,\n",
        "                        label='outlier region',)\n",
        "    axs[i].legend()\n",
        "    axs[i].set_title(column)"
      ],
      "execution_count": null,
      "outputs": [
        {
          "output_type": "display_data",
          "data": {
            "image/png": "[encoded data removed]",
            "text/plain": [
              "<Figure size 1440x360 with 3 Axes>"
            ]
          },
          "metadata": {
            "tags": []
          }
        }
      ]
    },
    {
      "cell_type": "code",
      "metadata": {
        "id": "B7vqGwSCwBvV",
        "colab_type": "code",
        "colab": {}
      },
      "source": [
        "scaler = StandardScaler()\n",
        "scaler.fit(df)\n",
        "scaled_df = scaler.transform(df)"
      ],
      "execution_count": null,
      "outputs": []
    },
    {
      "cell_type": "code",
      "metadata": {
        "id": "xCgFYjfBRved",
        "colab_type": "code",
        "colab": {
          "base_uri": "https://localhost:8080/",
          "height": 34
        },
        "outputId": "c158364a-bbd9-45e2-ec4e-aa15bb8519cc"
      },
      "source": [
        "pca = PCA(n_components=2)\n",
        "df_pca = pca.fit_transform(scaled_df)\n",
        "df_pca.shape"
      ],
      "execution_count": null,
      "outputs": [
        {
          "output_type": "execute_result",
          "data": {
            "text/plain": [
              "(18, 2)"
            ]
          },
          "metadata": {
            "tags": []
          },
          "execution_count": 16
        }
      ]
    },
    {
      "cell_type": "code",
      "metadata": {
        "id": "riGBvze-Fq-B",
        "colab_type": "code",
        "colab": {
          "base_uri": "https://localhost:8080/",
          "height": 34
        },
        "outputId": "77334864-48c4-4f1e-92ee-90b16da73ae1"
      },
      "source": [
        "pca.explained_variance_ratio_"
      ],
      "execution_count": null,
      "outputs": [
        {
          "output_type": "execute_result",
          "data": {
            "text/plain": [
              "array([0.77872965, 0.19265439])"
            ]
          },
          "metadata": {
            "tags": []
          },
          "execution_count": 17
        }
      ]
    },
    {
      "cell_type": "code",
      "metadata": {
        "id": "F541mgVCf3yZ",
        "colab_type": "code",
        "colab": {
          "base_uri": "https://localhost:8080/",
          "height": 34
        },
        "outputId": "c0ced91e-ee3b-4d71-96ac-243e77333368"
      },
      "source": [
        "del scaled_df\n",
        "collect()"
      ],
      "execution_count": null,
      "outputs": [
        {
          "output_type": "execute_result",
          "data": {
            "text/plain": [
              "39"
            ]
          },
          "metadata": {
            "tags": []
          },
          "execution_count": 18
        }
      ]
    },
    {
      "cell_type": "code",
      "metadata": {
        "id": "R9_u8y4QgNS-",
        "colab_type": "code",
        "colab": {
          "base_uri": "https://localhost:8080/",
          "height": 34
        },
        "outputId": "7514e61c-4439-4c27-abab-79ecb414da54"
      },
      "source": [
        "del df_pca\n",
        "collect()"
      ],
      "execution_count": null,
      "outputs": [
        {
          "output_type": "execute_result",
          "data": {
            "text/plain": [
              "0"
            ]
          },
          "metadata": {
            "tags": []
          },
          "execution_count": 19
        }
      ]
    },
    {
      "cell_type": "code",
      "metadata": {
        "id": "f-kECgsQbY8Z",
        "colab_type": "code",
        "colab": {}
      },
      "source": [
        "X = df[['MPX',\n",
        "        'MPY',]]\n",
        "y = df['lat']\n",
        "\n",
        "X_train, X_test, y_train, y_test = train_test_split(X, \n",
        "                                                    y, \n",
        "                                                    test_size = 0.2, \n",
        "                                                    random_state = 0,)"
      ],
      "execution_count": null,
      "outputs": []
    },
    {
      "cell_type": "code",
      "metadata": {
        "id": "p1UZN95kbdbI",
        "colab_type": "code",
        "colab": {
          "base_uri": "https://localhost:8080/",
          "height": 195
        },
        "outputId": "2f75745c-bab4-4f51-ef42-499d596933d3"
      },
      "source": [
        "X_train.head()"
      ],
      "execution_count": null,
      "outputs": [
        {
          "output_type": "execute_result",
          "data": {
            "text/html": [
              "<div>\n",
              "<style scoped>\n",
              "    .dataframe tbody tr th:only-of-type {\n",
              "        vertical-align: middle;\n",
              "    }\n",
              "\n",
              "    .dataframe tbody tr th {\n",
              "        vertical-align: top;\n",
              "    }\n",
              "\n",
              "    .dataframe thead th {\n",
              "        text-align: right;\n",
              "    }\n",
              "</style>\n",
              "<table border=\"1\" class=\"dataframe\">\n",
              "  <thead>\n",
              "    <tr style=\"text-align: right;\">\n",
              "      <th></th>\n",
              "      <th>MPX</th>\n",
              "      <th>MPY</th>\n",
              "    </tr>\n",
              "  </thead>\n",
              "  <tbody>\n",
              "    <tr>\n",
              "      <th>14</th>\n",
              "      <td>883.5</td>\n",
              "      <td>308.5</td>\n",
              "    </tr>\n",
              "    <tr>\n",
              "      <th>4</th>\n",
              "      <td>435.5</td>\n",
              "      <td>330.5</td>\n",
              "    </tr>\n",
              "    <tr>\n",
              "      <th>2</th>\n",
              "      <td>1239.5</td>\n",
              "      <td>322.5</td>\n",
              "    </tr>\n",
              "    <tr>\n",
              "      <th>16</th>\n",
              "      <td>306.0</td>\n",
              "      <td>618.5</td>\n",
              "    </tr>\n",
              "    <tr>\n",
              "      <th>17</th>\n",
              "      <td>393.5</td>\n",
              "      <td>609.0</td>\n",
              "    </tr>\n",
              "  </tbody>\n",
              "</table>\n",
              "</div>"
            ],
            "text/plain": [
              "       MPX    MPY\n",
              "14   883.5  308.5\n",
              "4    435.5  330.5\n",
              "2   1239.5  322.5\n",
              "16   306.0  618.5\n",
              "17   393.5  609.0"
            ]
          },
          "metadata": {
            "tags": []
          },
          "execution_count": 52
        }
      ]
    },
    {
      "cell_type": "code",
      "metadata": {
        "id": "5vftRYYpbluo",
        "colab_type": "code",
        "colab": {
          "base_uri": "https://localhost:8080/",
          "height": 34
        },
        "outputId": "74d5a028-2a82-4a86-8e29-dee4e59a0f20"
      },
      "source": [
        "regr = LinearRegression()\n",
        "regr.fit(X_train,\n",
        "         y_train,)"
      ],
      "execution_count": null,
      "outputs": [
        {
          "output_type": "execute_result",
          "data": {
            "text/plain": [
              "LinearRegression(copy_X=True, fit_intercept=True, n_jobs=None, normalize=False)"
            ]
          },
          "metadata": {
            "tags": []
          },
          "execution_count": 53
        }
      ]
    },
    {
      "cell_type": "code",
      "metadata": {
        "id": "tpA4kTHFgS2P",
        "colab_type": "code",
        "colab": {
          "base_uri": "https://localhost:8080/",
          "height": 34
        },
        "outputId": "f40cc0d6-e3b7-4996-fa5b-6511c1535c4d"
      },
      "source": [
        "del X_train\n",
        "collect()"
      ],
      "execution_count": null,
      "outputs": [
        {
          "output_type": "execute_result",
          "data": {
            "text/plain": [
              "33"
            ]
          },
          "metadata": {
            "tags": []
          },
          "execution_count": 54
        }
      ]
    },
    {
      "cell_type": "code",
      "metadata": {
        "id": "tXS6K4wNgXJH",
        "colab_type": "code",
        "colab": {
          "base_uri": "https://localhost:8080/",
          "height": 34
        },
        "outputId": "31d5456f-2efc-48d3-ff14-307b03329e34"
      },
      "source": [
        "del y_train\n",
        "collect()"
      ],
      "execution_count": null,
      "outputs": [
        {
          "output_type": "execute_result",
          "data": {
            "text/plain": [
              "0"
            ]
          },
          "metadata": {
            "tags": []
          },
          "execution_count": 55
        }
      ]
    },
    {
      "cell_type": "code",
      "metadata": {
        "id": "pWgvvqlkbrKE",
        "colab_type": "code",
        "colab": {
          "base_uri": "https://localhost:8080/",
          "height": 118
        },
        "outputId": "23412f86-d509-4a53-86c3-81da3876bac6"
      },
      "source": [
        "y_pred = regr.predict(X_test)\n",
        "print(X_test)\n",
        "print(y_pred)"
      ],
      "execution_count": null,
      "outputs": [
        {
          "output_type": "stream",
          "text": [
            "       MPX    MPY\n",
            "1    854.5  359.5\n",
            "6   1165.0  257.5\n",
            "8    783.5  267.5\n",
            "10   241.0  360.5\n",
            "[67.14352511 67.14366719 67.14358931 67.1434125 ]\n"
          ],
          "name": "stdout"
        }
      ]
    },
    {
      "cell_type": "code",
      "metadata": {
        "id": "Ko1DG_ALbxqe",
        "colab_type": "code",
        "colab": {
          "base_uri": "https://localhost:8080/",
          "height": 101
        },
        "outputId": "d1af8cd8-a5c9-4756-fa1e-38fe2e728f0d"
      },
      "source": [
        "print('Coefficients:', \n",
        "      regr.coef_,)\n",
        "\n",
        "print('Mean absolute error: %.2f'\n",
        "      % mean_absolute_error(y_test,\n",
        "                            y_pred.ravel(),))\n",
        "\n",
        "print('Mean squared error: %.2f'\n",
        "      % mean_squared_error(y_test,\n",
        "                           y_pred.ravel(),))\n",
        "\n",
        "print('Root mean square error: %.2f'\n",
        "      % sqrt(mean_squared_error(y_test,\n",
        "                                y_pred.ravel(),)))\n",
        "\n",
        "print('Coefficient of determination: %.2f'\n",
        "      % r2_score(y_test, \n",
        "                 y_pred.ravel(),))"
      ],
      "execution_count": null,
      "outputs": [
        {
          "output_type": "stream",
          "text": [
            "Coefficients: [ 1.82177843e-07 -8.38411046e-07]\n",
            "Mean absolute error: 0.00\n",
            "Mean squared error: 0.00\n",
            "Root mean square error: 0.00\n",
            "Coefficient of determination: 0.84\n"
          ],
          "name": "stdout"
        }
      ]
    },
    {
      "cell_type": "code",
      "metadata": {
        "id": "68CrZ0eJkKQV",
        "colab_type": "code",
        "colab": {
          "base_uri": "https://localhost:8080/",
          "height": 34
        },
        "outputId": "ac6e2982-7f5f-4360-8361-74216a10fc98"
      },
      "source": [
        "explained_variance_score(y_test,\n",
        "                         y_pred.ravel(),)"
      ],
      "execution_count": null,
      "outputs": [
        {
          "output_type": "execute_result",
          "data": {
            "text/plain": [
              "0.8439450168139819"
            ]
          },
          "metadata": {
            "tags": []
          },
          "execution_count": 58
        }
      ]
    },
    {
      "cell_type": "code",
      "metadata": {
        "id": "BFjsyW7bgsHk",
        "colab_type": "code",
        "colab": {
          "base_uri": "https://localhost:8080/",
          "height": 34
        },
        "outputId": "36a88a32-d02e-437e-c423-8f661ce5644e"
      },
      "source": [
        "del X_test\n",
        "collect()"
      ],
      "execution_count": null,
      "outputs": [
        {
          "output_type": "execute_result",
          "data": {
            "text/plain": [
              "11"
            ]
          },
          "metadata": {
            "tags": []
          },
          "execution_count": 59
        }
      ]
    },
    {
      "cell_type": "code",
      "metadata": {
        "id": "lQG0EblBg0zI",
        "colab_type": "code",
        "colab": {
          "base_uri": "https://localhost:8080/",
          "height": 34
        },
        "outputId": "4298f8dd-e4aa-46c9-9b8d-5f47d3ecba8e"
      },
      "source": [
        "del y_pred\n",
        "collect()"
      ],
      "execution_count": null,
      "outputs": [
        {
          "output_type": "execute_result",
          "data": {
            "text/plain": [
              "0"
            ]
          },
          "metadata": {
            "tags": []
          },
          "execution_count": 60
        }
      ]
    },
    {
      "cell_type": "code",
      "metadata": {
        "id": "DsUn3WtIg7sk",
        "colab_type": "code",
        "colab": {
          "base_uri": "https://localhost:8080/",
          "height": 34
        },
        "outputId": "b9767837-bd69-47af-c569-faf9e3b9bf34"
      },
      "source": [
        "del y_test\n",
        "collect()"
      ],
      "execution_count": null,
      "outputs": [
        {
          "output_type": "execute_result",
          "data": {
            "text/plain": [
              "0"
            ]
          },
          "metadata": {
            "tags": []
          },
          "execution_count": 61
        }
      ]
    },
    {
      "cell_type": "code",
      "metadata": {
        "id": "zF83rhXzb6vj",
        "colab_type": "code",
        "colab": {
          "base_uri": "https://localhost:8080/",
          "height": 34
        },
        "outputId": "0545e58c-e042-4b9d-bb71-5f2793ee474f"
      },
      "source": [
        "regr.predict([[1107,\n",
        "               255,]])"
      ],
      "execution_count": null,
      "outputs": [
        {
          "output_type": "execute_result",
          "data": {
            "text/plain": [
              "array([67.14365872])"
            ]
          },
          "metadata": {
            "tags": []
          },
          "execution_count": 62
        }
      ]
    },
    {
      "cell_type": "code",
      "metadata": {
        "id": "Euo2KolEoy6h",
        "colab_type": "code",
        "colab": {}
      },
      "source": [
        "pickle_out=open(\"dict1.pickle\",\n",
        "                \"wb\",)\n",
        "dump(regr,\n",
        "     pickle_out,)"
      ],
      "execution_count": null,
      "outputs": []
    },
    {
      "cell_type": "code",
      "metadata": {
        "id": "fZ2xzd4io5KI",
        "colab_type": "code",
        "colab": {}
      },
      "source": [
        "pickle_out.close()"
      ],
      "execution_count": null,
      "outputs": []
    },
    {
      "cell_type": "code",
      "metadata": {
        "id": "yAq7SZqEiGFe",
        "colab_type": "code",
        "colab": {
          "base_uri": "https://localhost:8080/",
          "height": 34
        },
        "outputId": "56c1e8c1-fee1-4cdd-a96d-c65d6ea60703"
      },
      "source": [
        "del pickle_out\n",
        "collect()"
      ],
      "execution_count": null,
      "outputs": [
        {
          "output_type": "execute_result",
          "data": {
            "text/plain": [
              "0"
            ]
          },
          "metadata": {
            "tags": []
          },
          "execution_count": 65
        }
      ]
    },
    {
      "cell_type": "code",
      "metadata": {
        "id": "i7G7C7EFo-P2",
        "colab_type": "code",
        "colab": {
          "base_uri": "https://localhost:8080/",
          "height": 34
        },
        "outputId": "16ee1fd4-2b4c-4775-a6c0-6072bff55eb3"
      },
      "source": [
        "!ls"
      ],
      "execution_count": null,
      "outputs": [
        {
          "output_type": "stream",
          "text": [
            "assumed_PHA.csv  dict1.pickle  sample_data\n"
          ],
          "name": "stdout"
        }
      ]
    },
    {
      "cell_type": "code",
      "metadata": {
        "id": "-4kLCm-XpDqT",
        "colab_type": "code",
        "colab": {
          "base_uri": "https://localhost:8080/",
          "height": 34
        },
        "outputId": "83b2f3b8-f03d-438a-8520-dda53aa7b3f9"
      },
      "source": [
        "!pip freeze | grep scikit-learn"
      ],
      "execution_count": null,
      "outputs": [
        {
          "output_type": "stream",
          "text": [
            "scikit-learn==0.22.2.post1\n"
          ],
          "name": "stdout"
        }
      ]
    }
  ]
}